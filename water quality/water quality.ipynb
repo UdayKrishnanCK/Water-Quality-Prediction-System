{
 "cells": [
  {
   "cell_type": "code",
   "execution_count": 2,
   "metadata": {
    "colab": {
     "base_uri": "https://localhost:8080/",
     "height": 377
    },
    "executionInfo": {
     "elapsed": 1459,
     "status": "ok",
     "timestamp": 1707794130679,
     "user": {
      "displayName": "Uday krishnan ck",
      "userId": "10300820552917316551"
     },
     "user_tz": -330
    },
    "id": "p46nRlA7V_ai",
    "outputId": "3ae0a61d-f0ce-4460-a5a2-89d569858f56"
   },
   "outputs": [
    {
     "data": {
      "text/html": [
       "<div>\n",
       "<style scoped>\n",
       "    .dataframe tbody tr th:only-of-type {\n",
       "        vertical-align: middle;\n",
       "    }\n",
       "\n",
       "    .dataframe tbody tr th {\n",
       "        vertical-align: top;\n",
       "    }\n",
       "\n",
       "    .dataframe thead th {\n",
       "        text-align: right;\n",
       "    }\n",
       "</style>\n",
       "<table border=\"1\" class=\"dataframe\">\n",
       "  <thead>\n",
       "    <tr style=\"text-align: right;\">\n",
       "      <th></th>\n",
       "      <th>Index</th>\n",
       "      <th>pH</th>\n",
       "      <th>Iron</th>\n",
       "      <th>Nitrate</th>\n",
       "      <th>Chloride</th>\n",
       "      <th>Lead</th>\n",
       "      <th>Zinc</th>\n",
       "      <th>Color</th>\n",
       "      <th>Turbidity</th>\n",
       "      <th>Fluoride</th>\n",
       "      <th>...</th>\n",
       "      <th>Chlorine</th>\n",
       "      <th>Manganese</th>\n",
       "      <th>Total Dissolved Solids</th>\n",
       "      <th>Source</th>\n",
       "      <th>Water Temperature</th>\n",
       "      <th>Air Temperature</th>\n",
       "      <th>Month</th>\n",
       "      <th>Day</th>\n",
       "      <th>Time of Day</th>\n",
       "      <th>Target</th>\n",
       "    </tr>\n",
       "  </thead>\n",
       "  <tbody>\n",
       "    <tr>\n",
       "      <th>23443</th>\n",
       "      <td>392008</td>\n",
       "      <td>6.889426</td>\n",
       "      <td>2.640000e-05</td>\n",
       "      <td>5.848760</td>\n",
       "      <td>92.746629</td>\n",
       "      <td>2.630000e-62</td>\n",
       "      <td>2.851672</td>\n",
       "      <td>Faint Yellow</td>\n",
       "      <td>0.027036</td>\n",
       "      <td>0.506179</td>\n",
       "      <td>...</td>\n",
       "      <td>2.165604</td>\n",
       "      <td>3.647200e-04</td>\n",
       "      <td>166.920586</td>\n",
       "      <td>Well</td>\n",
       "      <td>15.982028</td>\n",
       "      <td>55.818526</td>\n",
       "      <td>October</td>\n",
       "      <td>30.0</td>\n",
       "      <td>22.0</td>\n",
       "      <td>0</td>\n",
       "    </tr>\n",
       "    <tr>\n",
       "      <th>23444</th>\n",
       "      <td>392009</td>\n",
       "      <td>7.296072</td>\n",
       "      <td>8.810000e-17</td>\n",
       "      <td>2.015319</td>\n",
       "      <td>204.915835</td>\n",
       "      <td>4.180000e-66</td>\n",
       "      <td>0.135018</td>\n",
       "      <td>Colorless</td>\n",
       "      <td>0.182704</td>\n",
       "      <td>0.598807</td>\n",
       "      <td>...</td>\n",
       "      <td>2.754809</td>\n",
       "      <td>4.624860e-02</td>\n",
       "      <td>311.615425</td>\n",
       "      <td>Well</td>\n",
       "      <td>8.082021</td>\n",
       "      <td>80.743208</td>\n",
       "      <td>December</td>\n",
       "      <td>30.0</td>\n",
       "      <td>19.0</td>\n",
       "      <td>0</td>\n",
       "    </tr>\n",
       "    <tr>\n",
       "      <th>23445</th>\n",
       "      <td>392010</td>\n",
       "      <td>7.366892</td>\n",
       "      <td>1.367284e-03</td>\n",
       "      <td>6.760326</td>\n",
       "      <td>123.806696</td>\n",
       "      <td>4.650000e-253</td>\n",
       "      <td>1.860439</td>\n",
       "      <td>Near Colorless</td>\n",
       "      <td>0.304827</td>\n",
       "      <td>0.401383</td>\n",
       "      <td>...</td>\n",
       "      <td>3.371511</td>\n",
       "      <td>3.070000e-06</td>\n",
       "      <td>136.122327</td>\n",
       "      <td>Stream</td>\n",
       "      <td>49.183808</td>\n",
       "      <td>86.785833</td>\n",
       "      <td>September</td>\n",
       "      <td>23.0</td>\n",
       "      <td>20.0</td>\n",
       "      <td>0</td>\n",
       "    </tr>\n",
       "    <tr>\n",
       "      <th>23446</th>\n",
       "      <td>392011</td>\n",
       "      <td>7.446688</td>\n",
       "      <td>4.500000e-10</td>\n",
       "      <td>9.533788</td>\n",
       "      <td>218.491142</td>\n",
       "      <td>3.230000e-130</td>\n",
       "      <td>0.526880</td>\n",
       "      <td>Colorless</td>\n",
       "      <td>0.029669</td>\n",
       "      <td>0.388289</td>\n",
       "      <td>...</td>\n",
       "      <td>4.024450</td>\n",
       "      <td>1.209648e-02</td>\n",
       "      <td>454.226675</td>\n",
       "      <td>Well</td>\n",
       "      <td>8.410555</td>\n",
       "      <td>66.464587</td>\n",
       "      <td>September</td>\n",
       "      <td>13.0</td>\n",
       "      <td>11.0</td>\n",
       "      <td>0</td>\n",
       "    </tr>\n",
       "    <tr>\n",
       "      <th>23447</th>\n",
       "      <td>392012</td>\n",
       "      <td>6.985237</td>\n",
       "      <td>6.360000e-06</td>\n",
       "      <td>8.571462</td>\n",
       "      <td>143.424735</td>\n",
       "      <td>3.050000e-44</td>\n",
       "      <td>0.103198</td>\n",
       "      <td>Near Colorless</td>\n",
       "      <td>0.230169</td>\n",
       "      <td>1.495240</td>\n",
       "      <td>...</td>\n",
       "      <td>3.496925</td>\n",
       "      <td>8.320000e-11</td>\n",
       "      <td>251.926068</td>\n",
       "      <td>Aquifer</td>\n",
       "      <td>NaN</td>\n",
       "      <td>66.613804</td>\n",
       "      <td>June</td>\n",
       "      <td>6.0</td>\n",
       "      <td>22.0</td>\n",
       "      <td>1</td>\n",
       "    </tr>\n",
       "  </tbody>\n",
       "</table>\n",
       "<p>5 rows × 24 columns</p>\n",
       "</div>"
      ],
      "text/plain": [
       "        Index        pH          Iron   Nitrate    Chloride           Lead  \\\n",
       "23443  392008  6.889426  2.640000e-05  5.848760   92.746629   2.630000e-62   \n",
       "23444  392009  7.296072  8.810000e-17  2.015319  204.915835   4.180000e-66   \n",
       "23445  392010  7.366892  1.367284e-03  6.760326  123.806696  4.650000e-253   \n",
       "23446  392011  7.446688  4.500000e-10  9.533788  218.491142  3.230000e-130   \n",
       "23447  392012  6.985237  6.360000e-06  8.571462  143.424735   3.050000e-44   \n",
       "\n",
       "           Zinc           Color  Turbidity  Fluoride  ...  Chlorine  \\\n",
       "23443  2.851672    Faint Yellow   0.027036  0.506179  ...  2.165604   \n",
       "23444  0.135018       Colorless   0.182704  0.598807  ...  2.754809   \n",
       "23445  1.860439  Near Colorless   0.304827  0.401383  ...  3.371511   \n",
       "23446  0.526880       Colorless   0.029669  0.388289  ...  4.024450   \n",
       "23447  0.103198  Near Colorless   0.230169  1.495240  ...  3.496925   \n",
       "\n",
       "          Manganese  Total Dissolved Solids   Source  Water Temperature  \\\n",
       "23443  3.647200e-04              166.920586     Well          15.982028   \n",
       "23444  4.624860e-02              311.615425     Well           8.082021   \n",
       "23445  3.070000e-06              136.122327   Stream          49.183808   \n",
       "23446  1.209648e-02              454.226675     Well           8.410555   \n",
       "23447  8.320000e-11              251.926068  Aquifer                NaN   \n",
       "\n",
       "       Air Temperature      Month   Day  Time of Day  Target  \n",
       "23443        55.818526    October  30.0         22.0       0  \n",
       "23444        80.743208   December  30.0         19.0       0  \n",
       "23445        86.785833  September  23.0         20.0       0  \n",
       "23446        66.464587  September  13.0         11.0       0  \n",
       "23447        66.613804       June   6.0         22.0       1  \n",
       "\n",
       "[5 rows x 24 columns]"
      ]
     },
     "execution_count": 2,
     "metadata": {},
     "output_type": "execute_result"
    }
   ],
   "source": [
    "import pandas as pd\n",
    "df = pd.read_csv('Water prediction.csv')\n",
    "df.tail()"
   ]
  },
  {
   "cell_type": "code",
   "execution_count": 3,
   "metadata": {
    "colab": {
     "base_uri": "https://localhost:8080/"
    },
    "executionInfo": {
     "elapsed": 35,
     "status": "ok",
     "timestamp": 1707794130680,
     "user": {
      "displayName": "Uday krishnan ck",
      "userId": "10300820552917316551"
     },
     "user_tz": -330
    },
    "id": "Rj9OIfy9KB2a",
    "outputId": "01d0ce0a-b05f-48b2-b2af-c4806ac48de7"
   },
   "outputs": [
    {
     "data": {
      "text/plain": [
       "Target\n",
       "1    12622\n",
       "0    10826\n",
       "Name: count, dtype: int64"
      ]
     },
     "execution_count": 3,
     "metadata": {},
     "output_type": "execute_result"
    }
   ],
   "source": [
    "df['Target'].value_counts()"
   ]
  },
  {
   "cell_type": "code",
   "execution_count": 4,
   "metadata": {
    "colab": {
     "base_uri": "https://localhost:8080/"
    },
    "executionInfo": {
     "elapsed": 31,
     "status": "ok",
     "timestamp": 1707794130681,
     "user": {
      "displayName": "Uday krishnan ck",
      "userId": "10300820552917316551"
     },
     "user_tz": -330
    },
    "id": "5m0MbP6RWzAw",
    "outputId": "6601f2a7-8450-414e-9988-7ab6702197a3"
   },
   "outputs": [
    {
     "data": {
      "text/plain": [
       "(23448, 24)"
      ]
     },
     "execution_count": 4,
     "metadata": {},
     "output_type": "execute_result"
    }
   ],
   "source": [
    "df.shape"
   ]
  },
  {
   "cell_type": "code",
   "execution_count": 5,
   "metadata": {
    "colab": {
     "base_uri": "https://localhost:8080/"
    },
    "executionInfo": {
     "elapsed": 28,
     "status": "ok",
     "timestamp": 1707794130681,
     "user": {
      "displayName": "Uday krishnan ck",
      "userId": "10300820552917316551"
     },
     "user_tz": -330
    },
    "id": "0Vhs-E8wW7PQ",
    "outputId": "61aecf72-95d8-4598-9e2d-69190da54318"
   },
   "outputs": [
    {
     "name": "stdout",
     "output_type": "stream",
     "text": [
      "<class 'pandas.core.frame.DataFrame'>\n",
      "RangeIndex: 23448 entries, 0 to 23447\n",
      "Data columns (total 24 columns):\n",
      " #   Column                  Non-Null Count  Dtype  \n",
      "---  ------                  --------------  -----  \n",
      " 0   Index                   23448 non-null  int64  \n",
      " 1   pH                      22988 non-null  float64\n",
      " 2   Iron                    23283 non-null  float64\n",
      " 3   Nitrate                 23049 non-null  float64\n",
      " 4   Chloride                22749 non-null  float64\n",
      " 5   Lead                    23347 non-null  float64\n",
      " 6   Zinc                    22790 non-null  float64\n",
      " 7   Color                   23434 non-null  object \n",
      " 8   Turbidity               23270 non-null  float64\n",
      " 9   Fluoride                22692 non-null  float64\n",
      " 10  Copper                  22628 non-null  float64\n",
      " 11  Odor                    22775 non-null  float64\n",
      " 12  Sulfate                 22677 non-null  float64\n",
      " 13  Conductivity            22788 non-null  float64\n",
      " 14  Chlorine                23193 non-null  float64\n",
      " 15  Manganese               22974 non-null  float64\n",
      " 16  Total Dissolved Solids  23439 non-null  float64\n",
      " 17  Source                  23081 non-null  object \n",
      " 18  Water Temperature       22807 non-null  float64\n",
      " 19  Air Temperature         23342 non-null  float64\n",
      " 20  Month                   23069 non-null  object \n",
      " 21  Day                     23029 non-null  float64\n",
      " 22  Time of Day             23024 non-null  float64\n",
      " 23  Target                  23448 non-null  int64  \n",
      "dtypes: float64(19), int64(2), object(3)\n",
      "memory usage: 4.3+ MB\n"
     ]
    }
   ],
   "source": [
    "df.info()"
   ]
  },
  {
   "cell_type": "code",
   "execution_count": 6,
   "metadata": {
    "colab": {
     "base_uri": "https://localhost:8080/",
     "height": 401
    },
    "executionInfo": {
     "elapsed": 24,
     "status": "ok",
     "timestamp": 1707794130681,
     "user": {
      "displayName": "Uday krishnan ck",
      "userId": "10300820552917316551"
     },
     "user_tz": -330
    },
    "id": "F4Q07OsKW7Kb",
    "outputId": "6a660a26-e53f-45c8-fd54-ae2dd83c0c78"
   },
   "outputs": [
    {
     "data": {
      "text/html": [
       "<div>\n",
       "<style scoped>\n",
       "    .dataframe tbody tr th:only-of-type {\n",
       "        vertical-align: middle;\n",
       "    }\n",
       "\n",
       "    .dataframe tbody tr th {\n",
       "        vertical-align: top;\n",
       "    }\n",
       "\n",
       "    .dataframe thead th {\n",
       "        text-align: right;\n",
       "    }\n",
       "</style>\n",
       "<table border=\"1\" class=\"dataframe\">\n",
       "  <thead>\n",
       "    <tr style=\"text-align: right;\">\n",
       "      <th></th>\n",
       "      <th>Index</th>\n",
       "      <th>pH</th>\n",
       "      <th>Iron</th>\n",
       "      <th>Nitrate</th>\n",
       "      <th>Chloride</th>\n",
       "      <th>Lead</th>\n",
       "      <th>Zinc</th>\n",
       "      <th>Turbidity</th>\n",
       "      <th>Fluoride</th>\n",
       "      <th>Copper</th>\n",
       "      <th>...</th>\n",
       "      <th>Sulfate</th>\n",
       "      <th>Conductivity</th>\n",
       "      <th>Chlorine</th>\n",
       "      <th>Manganese</th>\n",
       "      <th>Total Dissolved Solids</th>\n",
       "      <th>Water Temperature</th>\n",
       "      <th>Air Temperature</th>\n",
       "      <th>Day</th>\n",
       "      <th>Time of Day</th>\n",
       "      <th>Target</th>\n",
       "    </tr>\n",
       "  </thead>\n",
       "  <tbody>\n",
       "    <tr>\n",
       "      <th>count</th>\n",
       "      <td>23448.000000</td>\n",
       "      <td>22988.000000</td>\n",
       "      <td>2.328300e+04</td>\n",
       "      <td>23049.000000</td>\n",
       "      <td>22749.000000</td>\n",
       "      <td>2.334700e+04</td>\n",
       "      <td>22790.000000</td>\n",
       "      <td>2.327000e+04</td>\n",
       "      <td>22692.000000</td>\n",
       "      <td>22628.000000</td>\n",
       "      <td>...</td>\n",
       "      <td>22677.000000</td>\n",
       "      <td>22788.000000</td>\n",
       "      <td>23193.000000</td>\n",
       "      <td>2.297400e+04</td>\n",
       "      <td>23439.000000</td>\n",
       "      <td>22807.000000</td>\n",
       "      <td>23342.000000</td>\n",
       "      <td>23029.000000</td>\n",
       "      <td>23024.000000</td>\n",
       "      <td>23448.000000</td>\n",
       "    </tr>\n",
       "    <tr>\n",
       "      <th>mean</th>\n",
       "      <td>370118.535568</td>\n",
       "      <td>19.031583</td>\n",
       "      <td>1.800280e-01</td>\n",
       "      <td>6.460135</td>\n",
       "      <td>191.568963</td>\n",
       "      <td>2.258023e-03</td>\n",
       "      <td>1.632754</td>\n",
       "      <td>6.249135e-01</td>\n",
       "      <td>1.039089</td>\n",
       "      <td>0.590095</td>\n",
       "      <td>...</td>\n",
       "      <td>151.352848</td>\n",
       "      <td>427.821755</td>\n",
       "      <td>3.314174</td>\n",
       "      <td>1.509231e-01</td>\n",
       "      <td>273.685395</td>\n",
       "      <td>19.214238</td>\n",
       "      <td>60.009062</td>\n",
       "      <td>15.687307</td>\n",
       "      <td>11.426338</td>\n",
       "      <td>0.538298</td>\n",
       "    </tr>\n",
       "    <tr>\n",
       "      <th>std</th>\n",
       "      <td>21473.313703</td>\n",
       "      <td>1758.265592</td>\n",
       "      <td>6.196334e-01</td>\n",
       "      <td>3.598252</td>\n",
       "      <td>74.638877</td>\n",
       "      <td>3.863870e-02</td>\n",
       "      <td>1.688494</td>\n",
       "      <td>1.062141e+00</td>\n",
       "      <td>0.916946</td>\n",
       "      <td>0.682090</td>\n",
       "      <td>...</td>\n",
       "      <td>74.362086</td>\n",
       "      <td>188.578407</td>\n",
       "      <td>0.787835</td>\n",
       "      <td>5.339514e-01</td>\n",
       "      <td>160.595077</td>\n",
       "      <td>11.465490</td>\n",
       "      <td>18.009678</td>\n",
       "      <td>8.833126</td>\n",
       "      <td>6.925310</td>\n",
       "      <td>0.498542</td>\n",
       "    </tr>\n",
       "    <tr>\n",
       "      <th>min</th>\n",
       "      <td>266592.000000</td>\n",
       "      <td>2.820911</td>\n",
       "      <td>1.940000e-31</td>\n",
       "      <td>0.453584</td>\n",
       "      <td>36.383147</td>\n",
       "      <td>0.000000e+00</td>\n",
       "      <td>0.000005</td>\n",
       "      <td>2.310000e-11</td>\n",
       "      <td>0.000185</td>\n",
       "      <td>0.000003</td>\n",
       "      <td>...</td>\n",
       "      <td>20.445156</td>\n",
       "      <td>24.259860</td>\n",
       "      <td>1.245532</td>\n",
       "      <td>4.070000e-46</td>\n",
       "      <td>0.032860</td>\n",
       "      <td>2.152679</td>\n",
       "      <td>-14.794843</td>\n",
       "      <td>1.000000</td>\n",
       "      <td>0.000000</td>\n",
       "      <td>0.000000</td>\n",
       "    </tr>\n",
       "    <tr>\n",
       "      <th>25%</th>\n",
       "      <td>355674.750000</td>\n",
       "      <td>6.821946</td>\n",
       "      <td>1.380000e-05</td>\n",
       "      <td>4.048844</td>\n",
       "      <td>140.261655</td>\n",
       "      <td>1.450000e-123</td>\n",
       "      <td>0.419963</td>\n",
       "      <td>4.319482e-02</td>\n",
       "      <td>0.389915</td>\n",
       "      <td>0.137804</td>\n",
       "      <td>...</td>\n",
       "      <td>99.177338</td>\n",
       "      <td>289.171345</td>\n",
       "      <td>2.765911</td>\n",
       "      <td>4.280000e-06</td>\n",
       "      <td>134.458756</td>\n",
       "      <td>11.340792</td>\n",
       "      <td>47.987696</td>\n",
       "      <td>8.000000</td>\n",
       "      <td>5.000000</td>\n",
       "      <td>0.000000</td>\n",
       "    </tr>\n",
       "    <tr>\n",
       "      <th>50%</th>\n",
       "      <td>380288.500000</td>\n",
       "      <td>7.446667</td>\n",
       "      <td>3.101019e-03</td>\n",
       "      <td>5.732337</td>\n",
       "      <td>180.210331</td>\n",
       "      <td>1.430000e-62</td>\n",
       "      <td>1.099900</td>\n",
       "      <td>2.463122e-01</td>\n",
       "      <td>0.807589</td>\n",
       "      <td>0.380836</td>\n",
       "      <td>...</td>\n",
       "      <td>137.463361</td>\n",
       "      <td>399.428958</td>\n",
       "      <td>3.242617</td>\n",
       "      <td>1.232275e-03</td>\n",
       "      <td>270.298920</td>\n",
       "      <td>16.520715</td>\n",
       "      <td>59.878192</td>\n",
       "      <td>16.000000</td>\n",
       "      <td>11.000000</td>\n",
       "      <td>1.000000</td>\n",
       "    </tr>\n",
       "    <tr>\n",
       "      <th>75%</th>\n",
       "      <td>386150.250000</td>\n",
       "      <td>8.067076</td>\n",
       "      <td>7.732190e-02</td>\n",
       "      <td>7.978025</td>\n",
       "      <td>226.371706</td>\n",
       "      <td>3.125000e-27</td>\n",
       "      <td>2.319119</td>\n",
       "      <td>7.349188e-01</td>\n",
       "      <td>1.422976</td>\n",
       "      <td>0.788603</td>\n",
       "      <td>...</td>\n",
       "      <td>188.007092</td>\n",
       "      <td>537.891243</td>\n",
       "      <td>3.780302</td>\n",
       "      <td>3.125316e-02</td>\n",
       "      <td>410.681956</td>\n",
       "      <td>23.968532</td>\n",
       "      <td>72.223614</td>\n",
       "      <td>23.000000</td>\n",
       "      <td>17.000000</td>\n",
       "      <td>1.000000</td>\n",
       "    </tr>\n",
       "    <tr>\n",
       "      <th>max</th>\n",
       "      <td>392012.000000</td>\n",
       "      <td>266592.000000</td>\n",
       "      <td>1.574860e+01</td>\n",
       "      <td>43.772993</td>\n",
       "      <td>783.612788</td>\n",
       "      <td>2.293632e+00</td>\n",
       "      <td>17.177322</td>\n",
       "      <td>1.629737e+01</td>\n",
       "      <td>9.361586</td>\n",
       "      <td>10.717320</td>\n",
       "      <td>...</td>\n",
       "      <td>1016.071257</td>\n",
       "      <td>1469.286236</td>\n",
       "      <td>9.622629</td>\n",
       "      <td>1.152059e+01</td>\n",
       "      <td>579.778068</td>\n",
       "      <td>144.420419</td>\n",
       "      <td>140.642152</td>\n",
       "      <td>31.000000</td>\n",
       "      <td>23.000000</td>\n",
       "      <td>1.000000</td>\n",
       "    </tr>\n",
       "  </tbody>\n",
       "</table>\n",
       "<p>8 rows × 21 columns</p>\n",
       "</div>"
      ],
      "text/plain": [
       "               Index             pH          Iron       Nitrate      Chloride  \\\n",
       "count   23448.000000   22988.000000  2.328300e+04  23049.000000  22749.000000   \n",
       "mean   370118.535568      19.031583  1.800280e-01      6.460135    191.568963   \n",
       "std     21473.313703    1758.265592  6.196334e-01      3.598252     74.638877   \n",
       "min    266592.000000       2.820911  1.940000e-31      0.453584     36.383147   \n",
       "25%    355674.750000       6.821946  1.380000e-05      4.048844    140.261655   \n",
       "50%    380288.500000       7.446667  3.101019e-03      5.732337    180.210331   \n",
       "75%    386150.250000       8.067076  7.732190e-02      7.978025    226.371706   \n",
       "max    392012.000000  266592.000000  1.574860e+01     43.772993    783.612788   \n",
       "\n",
       "                Lead          Zinc     Turbidity      Fluoride        Copper  \\\n",
       "count   2.334700e+04  22790.000000  2.327000e+04  22692.000000  22628.000000   \n",
       "mean    2.258023e-03      1.632754  6.249135e-01      1.039089      0.590095   \n",
       "std     3.863870e-02      1.688494  1.062141e+00      0.916946      0.682090   \n",
       "min     0.000000e+00      0.000005  2.310000e-11      0.000185      0.000003   \n",
       "25%    1.450000e-123      0.419963  4.319482e-02      0.389915      0.137804   \n",
       "50%     1.430000e-62      1.099900  2.463122e-01      0.807589      0.380836   \n",
       "75%     3.125000e-27      2.319119  7.349188e-01      1.422976      0.788603   \n",
       "max     2.293632e+00     17.177322  1.629737e+01      9.361586     10.717320   \n",
       "\n",
       "       ...       Sulfate  Conductivity      Chlorine     Manganese  \\\n",
       "count  ...  22677.000000  22788.000000  23193.000000  2.297400e+04   \n",
       "mean   ...    151.352848    427.821755      3.314174  1.509231e-01   \n",
       "std    ...     74.362086    188.578407      0.787835  5.339514e-01   \n",
       "min    ...     20.445156     24.259860      1.245532  4.070000e-46   \n",
       "25%    ...     99.177338    289.171345      2.765911  4.280000e-06   \n",
       "50%    ...    137.463361    399.428958      3.242617  1.232275e-03   \n",
       "75%    ...    188.007092    537.891243      3.780302  3.125316e-02   \n",
       "max    ...   1016.071257   1469.286236      9.622629  1.152059e+01   \n",
       "\n",
       "       Total Dissolved Solids  Water Temperature  Air Temperature  \\\n",
       "count            23439.000000       22807.000000     23342.000000   \n",
       "mean               273.685395          19.214238        60.009062   \n",
       "std                160.595077          11.465490        18.009678   \n",
       "min                  0.032860           2.152679       -14.794843   \n",
       "25%                134.458756          11.340792        47.987696   \n",
       "50%                270.298920          16.520715        59.878192   \n",
       "75%                410.681956          23.968532        72.223614   \n",
       "max                579.778068         144.420419       140.642152   \n",
       "\n",
       "                Day   Time of Day        Target  \n",
       "count  23029.000000  23024.000000  23448.000000  \n",
       "mean      15.687307     11.426338      0.538298  \n",
       "std        8.833126      6.925310      0.498542  \n",
       "min        1.000000      0.000000      0.000000  \n",
       "25%        8.000000      5.000000      0.000000  \n",
       "50%       16.000000     11.000000      1.000000  \n",
       "75%       23.000000     17.000000      1.000000  \n",
       "max       31.000000     23.000000      1.000000  \n",
       "\n",
       "[8 rows x 21 columns]"
      ]
     },
     "execution_count": 6,
     "metadata": {},
     "output_type": "execute_result"
    }
   ],
   "source": [
    "df.describe()"
   ]
  },
  {
   "cell_type": "code",
   "execution_count": 7,
   "metadata": {
    "colab": {
     "base_uri": "https://localhost:8080/"
    },
    "executionInfo": {
     "elapsed": 22,
     "status": "ok",
     "timestamp": 1707794130681,
     "user": {
      "displayName": "Uday krishnan ck",
      "userId": "10300820552917316551"
     },
     "user_tz": -330
    },
    "id": "ITGzH0TZESvM",
    "outputId": "0ee0ee49-3890-4775-b0ed-13299ca40761"
   },
   "outputs": [
    {
     "name": "stdout",
     "output_type": "stream",
     "text": [
      "['River' 'Reservoir' 'Lake' 'Spring' 'Stream' 'Well' 'Ground' nan\n",
      " 'Aquifer'] Source\n",
      "****************************************\n",
      "[0 1] Target\n",
      "****************************************\n"
     ]
    }
   ],
   "source": [
    "ad = ['Source','Target']\n",
    "for i in ad:\n",
    "  print(df[i].unique(),i)\n",
    "  print('*'*40)"
   ]
  },
  {
   "cell_type": "code",
   "execution_count": 8,
   "metadata": {
    "colab": {
     "base_uri": "https://localhost:8080/"
    },
    "executionInfo": {
     "elapsed": 1544,
     "status": "ok",
     "timestamp": 1707794132205,
     "user": {
      "displayName": "Uday krishnan ck",
      "userId": "10300820552917316551"
     },
     "user_tz": -330
    },
    "id": "v4McBGuHKRCI",
    "outputId": "ee333a10-0c9c-45e2-d9d9-873b186ff98c"
   },
   "outputs": [
    {
     "name": "stdout",
     "output_type": "stream",
     "text": [
      "pH\n",
      "6.686766         2\n",
      "8.002718         2\n",
      "8.229696         2\n",
      "7.938388         2\n",
      "266592.000000    1\n",
      "                ..\n",
      "7.184974         1\n",
      "8.079266         1\n",
      "7.079695         1\n",
      "5.435889         1\n",
      "6.985237         1\n",
      "Name: count, Length: 22984, dtype: int64 pH\n",
      "****************************************\n",
      "Iron\n",
      "0.000011    12\n",
      "0.000012    12\n",
      "0.000011    11\n",
      "0.000014     9\n",
      "0.000010     9\n",
      "            ..\n",
      "0.006419     1\n",
      "0.113257     1\n",
      "0.007162     1\n",
      "0.718739     1\n",
      "0.000006     1\n",
      "Name: count, Length: 20086, dtype: int64 Iron\n",
      "****************************************\n",
      "Nitrate\n",
      "8.383102     2\n",
      "3.211657     2\n",
      "8.568661     2\n",
      "6.243204     2\n",
      "4.234937     1\n",
      "            ..\n",
      "4.329749     1\n",
      "6.802179     1\n",
      "6.823752     1\n",
      "12.643867    1\n",
      "8.571462     1\n",
      "Name: count, Length: 23045, dtype: int64 Nitrate\n",
      "****************************************\n",
      "Chloride\n",
      "92.601676     2\n",
      "141.863552    2\n",
      "143.204024    2\n",
      "178.085096    2\n",
      "151.164883    1\n",
      "             ..\n",
      "175.313931    1\n",
      "150.141648    1\n",
      "120.162467    1\n",
      "201.797937    1\n",
      "143.424735    1\n",
      "Name: count, Length: 22745, dtype: int64 Chloride\n",
      "****************************************\n",
      "Lead\n",
      "0.000000e+00     575\n",
      "1.270000e-89       5\n",
      "1.520000e-30       5\n",
      "1.320000e-53       5\n",
      "1.100000e-30       5\n",
      "                ... \n",
      "1.620000e-186      1\n",
      "5.360000e-37       1\n",
      "9.420000e-257      1\n",
      "3.050000e-156      1\n",
      "3.050000e-44       1\n",
      "Name: count, Length: 20541, dtype: int64 Lead\n",
      "****************************************\n",
      "Zinc\n",
      "0.202346    2\n",
      "1.302637    2\n",
      "0.173687    2\n",
      "0.942979    1\n",
      "2.150730    1\n",
      "           ..\n",
      "1.744027    1\n",
      "1.788426    1\n",
      "0.070277    1\n",
      "1.056917    1\n",
      "0.103198    1\n",
      "Name: count, Length: 22787, dtype: int64 Zinc\n",
      "****************************************\n",
      "Color\n",
      "Colorless         6218\n",
      "Near Colorless    6178\n",
      "Faint Yellow      4461\n",
      "Light Yellow      3572\n",
      "Yellow            3005\n",
      "Name: count, dtype: int64 Color\n",
      "****************************************\n",
      "Turbidity\n",
      "0.000004    3\n",
      "0.000030    3\n",
      "0.000026    2\n",
      "0.000017    2\n",
      "0.000043    2\n",
      "           ..\n",
      "0.268790    1\n",
      "0.344334    1\n",
      "1.953674    1\n",
      "2.580147    1\n",
      "0.230169    1\n",
      "Name: count, Length: 23229, dtype: int64 Turbidity\n",
      "****************************************\n",
      "Fluoride\n",
      "0.403959    2\n",
      "1.080641    2\n",
      "1.307863    2\n",
      "0.402880    2\n",
      "0.732070    1\n",
      "           ..\n",
      "0.693286    1\n",
      "0.762521    1\n",
      "0.589516    1\n",
      "0.825549    1\n",
      "1.495240    1\n",
      "Name: count, Length: 22688, dtype: int64 Fluoride\n",
      "****************************************\n",
      "Copper\n",
      "0.525107    2\n",
      "0.633497    2\n",
      "0.201662    2\n",
      "0.525855    2\n",
      "0.292919    2\n",
      "           ..\n",
      "0.061471    1\n",
      "0.674817    1\n",
      "0.263333    1\n",
      "0.080079    1\n",
      "0.161888    1\n",
      "Name: count, Length: 22623, dtype: int64 Copper\n",
      "****************************************\n",
      "Odor\n",
      "1.283929    2\n",
      "3.563115    2\n",
      "0.407362    2\n",
      "1.373552    2\n",
      "1.774963    1\n",
      "           ..\n",
      "1.532941    1\n",
      "3.986387    1\n",
      "1.211853    1\n",
      "2.793712    1\n",
      "0.803849    1\n",
      "Name: count, Length: 22771, dtype: int64 Odor\n",
      "****************************************\n",
      "Sulfate\n",
      "204.228532    2\n",
      "199.253824    2\n",
      "158.306285    2\n",
      "190.426148    2\n",
      "205.326906    1\n",
      "             ..\n",
      "356.254462    1\n",
      "138.288317    1\n",
      "45.455378     1\n",
      "148.747474    1\n",
      "145.761518    1\n",
      "Name: count, Length: 22673, dtype: int64 Sulfate\n",
      "****************************************\n",
      "Conductivity\n",
      "644.342368    2\n",
      "357.484219    2\n",
      "271.796883    2\n",
      "429.476419    2\n",
      "804.315937    1\n",
      "             ..\n",
      "655.851787    1\n",
      "604.695595    1\n",
      "216.625538    1\n",
      "204.681729    1\n",
      "497.474015    1\n",
      "Name: count, Length: 22784, dtype: int64 Conductivity\n",
      "****************************************\n",
      "Chlorine\n",
      "3.079135    2\n",
      "3.551708    2\n",
      "4.037589    2\n",
      "3.286108    2\n",
      "3.157376    1\n",
      "           ..\n",
      "2.789102    1\n",
      "2.908185    1\n",
      "3.400488    1\n",
      "2.230430    1\n",
      "3.496925    1\n",
      "Name: count, Length: 23189, dtype: int64 Chlorine\n",
      "****************************************\n",
      "Manganese\n",
      "1.270000e-05    15\n",
      "1.090000e-06    12\n",
      "1.250000e-05    11\n",
      "1.200000e-05    10\n",
      "1.360000e-05    10\n",
      "                ..\n",
      "1.036815e+00     1\n",
      "5.530293e-03     1\n",
      "4.834038e-02     1\n",
      "6.239211e-02     1\n",
      "8.320000e-11     1\n",
      "Name: count, Length: 19161, dtype: int64 Manganese\n",
      "****************************************\n",
      "Total Dissolved Solids\n",
      "461.574755    2\n",
      "334.223226    2\n",
      "157.491799    2\n",
      "187.994703    2\n",
      "50.465760     1\n",
      "             ..\n",
      "193.726143    1\n",
      "477.425187    1\n",
      "540.727233    1\n",
      "83.214693     1\n",
      "251.926068    1\n",
      "Name: count, Length: 23435, dtype: int64 Total Dissolved Solids\n",
      "****************************************\n",
      "Source\n",
      "Aquifer      2991\n",
      "Well         2935\n",
      "Lake         2921\n",
      "Stream       2874\n",
      "Ground       2868\n",
      "Reservoir    2851\n",
      "River        2833\n",
      "Spring       2808\n",
      "Name: count, dtype: int64 Source\n",
      "****************************************\n",
      "Water Temperature\n",
      "29.495210    2\n",
      "9.465279     2\n",
      "9.943181     2\n",
      "38.668057    2\n",
      "14.827394    1\n",
      "            ..\n",
      "13.407775    1\n",
      "18.260984    1\n",
      "22.912109    1\n",
      "22.575022    1\n",
      "8.410555     1\n",
      "Name: count, Length: 22803, dtype: int64 Water Temperature\n",
      "****************************************\n",
      "Air Temperature\n",
      "40.853801    2\n",
      "41.998909    2\n",
      "35.596050    2\n",
      "51.451631    2\n",
      "46.351631    1\n",
      "            ..\n",
      "82.348355    1\n",
      "67.845215    1\n",
      "82.906847    1\n",
      "76.691623    1\n",
      "66.613804    1\n",
      "Name: count, Length: 23338, dtype: int64 Air Temperature\n",
      "****************************************\n",
      "Month\n",
      "January      2044\n",
      "August       2010\n",
      "March        2001\n",
      "October      1974\n",
      "May          1974\n",
      "November     1958\n",
      "July         1911\n",
      "September    1873\n",
      "December     1858\n",
      "April        1835\n",
      "June         1825\n",
      "February     1806\n",
      "Name: count, dtype: int64 Month\n",
      "****************************************\n",
      "Day\n",
      "17.0    821\n",
      "2.0     794\n",
      "6.0     793\n",
      "25.0    791\n",
      "8.0     783\n",
      "3.0     782\n",
      "26.0    778\n",
      "19.0    777\n",
      "22.0    775\n",
      "11.0    766\n",
      "14.0    765\n",
      "23.0    761\n",
      "1.0     756\n",
      "9.0     756\n",
      "5.0     753\n",
      "10.0    753\n",
      "12.0    750\n",
      "20.0    750\n",
      "7.0     746\n",
      "4.0     742\n",
      "24.0    732\n",
      "28.0    731\n",
      "21.0    731\n",
      "13.0    722\n",
      "27.0    719\n",
      "30.0    718\n",
      "18.0    717\n",
      "16.0    709\n",
      "15.0    709\n",
      "29.0    690\n",
      "31.0    459\n",
      "Name: count, dtype: int64 Day\n",
      "****************************************\n",
      "Time of Day\n",
      "5.0     1028\n",
      "14.0     993\n",
      "2.0      990\n",
      "22.0     987\n",
      "11.0     985\n",
      "1.0      982\n",
      "0.0      982\n",
      "12.0     978\n",
      "6.0      974\n",
      "7.0      969\n",
      "13.0     968\n",
      "18.0     963\n",
      "9.0      960\n",
      "4.0      960\n",
      "16.0     958\n",
      "21.0     948\n",
      "8.0      939\n",
      "23.0     935\n",
      "15.0     930\n",
      "19.0     929\n",
      "20.0     921\n",
      "10.0     917\n",
      "17.0     917\n",
      "3.0      911\n",
      "Name: count, dtype: int64 Time of Day\n",
      "****************************************\n",
      "Target\n",
      "1    12622\n",
      "0    10826\n",
      "Name: count, dtype: int64 Target\n",
      "****************************************\n"
     ]
    }
   ],
   "source": [
    "vd = ['pH', 'Iron', 'Nitrate', 'Chloride', 'Lead', 'Zinc', 'Color',\n",
    "       'Turbidity', 'Fluoride', 'Copper', 'Odor', 'Sulfate', 'Conductivity',\n",
    "       'Chlorine', 'Manganese', 'Total Dissolved Solids', 'Source',\n",
    "       'Water Temperature', 'Air Temperature', 'Month', 'Day', 'Time of Day',\n",
    "       'Target']\n",
    "for i in vd:\n",
    "  print(df[i].value_counts(),i)\n",
    "  print('*'*40)"
   ]
  },
  {
   "cell_type": "code",
   "execution_count": 9,
   "metadata": {
    "id": "eQCITUYuxYOs"
   },
   "outputs": [],
   "source": [
    "i = 266592.000000\n",
    "j = df['pH'].mean()\n",
    "df['pH'] = df['pH'].replace(i,j)"
   ]
  },
  {
   "cell_type": "code",
   "execution_count": 10,
   "metadata": {
    "colab": {
     "base_uri": "https://localhost:8080/"
    },
    "executionInfo": {
     "elapsed": 20,
     "status": "ok",
     "timestamp": 1707794132205,
     "user": {
      "displayName": "Uday krishnan ck",
      "userId": "10300820552917316551"
     },
     "user_tz": -330
    },
    "id": "0cPNSClcW7JO",
    "outputId": "6aa3402a-b742-4c54-9a7a-d69029b637c5"
   },
   "outputs": [
    {
     "data": {
      "text/plain": [
       "Index                       0\n",
       "pH                        460\n",
       "Iron                      165\n",
       "Nitrate                   399\n",
       "Chloride                  699\n",
       "Lead                      101\n",
       "Zinc                      658\n",
       "Color                      14\n",
       "Turbidity                 178\n",
       "Fluoride                  756\n",
       "Copper                    820\n",
       "Odor                      673\n",
       "Sulfate                   771\n",
       "Conductivity              660\n",
       "Chlorine                  255\n",
       "Manganese                 474\n",
       "Total Dissolved Solids      9\n",
       "Source                    367\n",
       "Water Temperature         641\n",
       "Air Temperature           106\n",
       "Month                     379\n",
       "Day                       419\n",
       "Time of Day               424\n",
       "Target                      0\n",
       "dtype: int64"
      ]
     },
     "execution_count": 10,
     "metadata": {},
     "output_type": "execute_result"
    }
   ],
   "source": [
    "df.isna().sum()"
   ]
  },
  {
   "cell_type": "code",
   "execution_count": 11,
   "metadata": {
    "colab": {
     "base_uri": "https://localhost:8080/"
    },
    "executionInfo": {
     "elapsed": 15,
     "status": "ok",
     "timestamp": 1707794132205,
     "user": {
      "displayName": "Uday krishnan ck",
      "userId": "10300820552917316551"
     },
     "user_tz": -330
    },
    "id": "a2_vtDNbeked",
    "outputId": "107f2ea8-6daf-4ac7-a8c5-b140c54a7fad"
   },
   "outputs": [
    {
     "data": {
      "text/plain": [
       "Index(['Index', 'pH', 'Iron', 'Nitrate', 'Chloride', 'Lead', 'Zinc', 'Color',\n",
       "       'Turbidity', 'Fluoride', 'Copper', 'Odor', 'Sulfate', 'Conductivity',\n",
       "       'Chlorine', 'Manganese', 'Total Dissolved Solids', 'Source',\n",
       "       'Water Temperature', 'Air Temperature', 'Month', 'Day', 'Time of Day',\n",
       "       'Target'],\n",
       "      dtype='object')"
      ]
     },
     "execution_count": 11,
     "metadata": {},
     "output_type": "execute_result"
    }
   ],
   "source": [
    "df.columns"
   ]
  },
  {
   "cell_type": "code",
   "execution_count": 12,
   "metadata": {
    "id": "3xkOvCXcW7Gl"
   },
   "outputs": [],
   "source": [
    "ls = ['pH', 'Iron', 'Nitrate', 'Chloride', 'Lead', 'Zinc',\n",
    "       'Turbidity', 'Fluoride', 'Copper', 'Odor', 'Sulfate', 'Conductivity',\n",
    "       'Chlorine', 'Manganese', 'Total Dissolved Solids',\n",
    "       'Water Temperature', 'Air Temperature',\n",
    "       'Target']\n",
    "for i in ls:\n",
    "  df[i].fillna(df[i].mean(),inplace=True)\n",
    "\n"
   ]
  },
  {
   "cell_type": "code",
   "execution_count": 13,
   "metadata": {
    "colab": {
     "base_uri": "https://localhost:8080/"
    },
    "executionInfo": {
     "elapsed": 13,
     "status": "ok",
     "timestamp": 1707794132206,
     "user": {
      "displayName": "Uday krishnan ck",
      "userId": "10300820552917316551"
     },
     "user_tz": -330
    },
    "id": "l7jlr1a8W7FK",
    "outputId": "79b6c77a-0454-4e70-ba39-5b88662b29ec"
   },
   "outputs": [
    {
     "data": {
      "text/plain": [
       "Index                       0\n",
       "pH                          0\n",
       "Iron                        0\n",
       "Nitrate                     0\n",
       "Chloride                    0\n",
       "Lead                        0\n",
       "Zinc                        0\n",
       "Color                      14\n",
       "Turbidity                   0\n",
       "Fluoride                    0\n",
       "Copper                      0\n",
       "Odor                        0\n",
       "Sulfate                     0\n",
       "Conductivity                0\n",
       "Chlorine                    0\n",
       "Manganese                   0\n",
       "Total Dissolved Solids      0\n",
       "Source                    367\n",
       "Water Temperature           0\n",
       "Air Temperature             0\n",
       "Month                     379\n",
       "Day                       419\n",
       "Time of Day               424\n",
       "Target                      0\n",
       "dtype: int64"
      ]
     },
     "execution_count": 13,
     "metadata": {},
     "output_type": "execute_result"
    }
   ],
   "source": [
    "df.isna().sum()"
   ]
  },
  {
   "cell_type": "code",
   "execution_count": 14,
   "metadata": {
    "colab": {
     "base_uri": "https://localhost:8080/"
    },
    "executionInfo": {
     "elapsed": 11,
     "status": "ok",
     "timestamp": 1707794132206,
     "user": {
      "displayName": "Uday krishnan ck",
      "userId": "10300820552917316551"
     },
     "user_tz": -330
    },
    "id": "Ykv2ntRAuQSv",
    "outputId": "d47b5e05-703d-4aef-baf4-8b5bc0165ece"
   },
   "outputs": [
    {
     "ename": "ValueError",
     "evalue": "could not convert string to float: 'Faint Yellow'",
     "output_type": "error",
     "traceback": [
      "\u001b[1;31m---------------------------------------------------------------------------\u001b[0m",
      "\u001b[1;31mValueError\u001b[0m                                Traceback (most recent call last)",
      "Cell \u001b[1;32mIn[14], line 1\u001b[0m\n\u001b[1;32m----> 1\u001b[0m corr \u001b[38;5;241m=\u001b[39m df\u001b[38;5;241m.\u001b[39mcorr()[\u001b[38;5;124m'\u001b[39m\u001b[38;5;124mTarget\u001b[39m\u001b[38;5;124m'\u001b[39m]\n\u001b[0;32m      2\u001b[0m corr\n",
      "File \u001b[1;32m~\\anaconda3\\Lib\\site-packages\\pandas\\core\\frame.py:10704\u001b[0m, in \u001b[0;36mDataFrame.corr\u001b[1;34m(self, method, min_periods, numeric_only)\u001b[0m\n\u001b[0;32m  10702\u001b[0m cols \u001b[38;5;241m=\u001b[39m data\u001b[38;5;241m.\u001b[39mcolumns\n\u001b[0;32m  10703\u001b[0m idx \u001b[38;5;241m=\u001b[39m cols\u001b[38;5;241m.\u001b[39mcopy()\n\u001b[1;32m> 10704\u001b[0m mat \u001b[38;5;241m=\u001b[39m data\u001b[38;5;241m.\u001b[39mto_numpy(dtype\u001b[38;5;241m=\u001b[39m\u001b[38;5;28mfloat\u001b[39m, na_value\u001b[38;5;241m=\u001b[39mnp\u001b[38;5;241m.\u001b[39mnan, copy\u001b[38;5;241m=\u001b[39m\u001b[38;5;28;01mFalse\u001b[39;00m)\n\u001b[0;32m  10706\u001b[0m \u001b[38;5;28;01mif\u001b[39;00m method \u001b[38;5;241m==\u001b[39m \u001b[38;5;124m\"\u001b[39m\u001b[38;5;124mpearson\u001b[39m\u001b[38;5;124m\"\u001b[39m:\n\u001b[0;32m  10707\u001b[0m     correl \u001b[38;5;241m=\u001b[39m libalgos\u001b[38;5;241m.\u001b[39mnancorr(mat, minp\u001b[38;5;241m=\u001b[39mmin_periods)\n",
      "File \u001b[1;32m~\\anaconda3\\Lib\\site-packages\\pandas\\core\\frame.py:1889\u001b[0m, in \u001b[0;36mDataFrame.to_numpy\u001b[1;34m(self, dtype, copy, na_value)\u001b[0m\n\u001b[0;32m   1887\u001b[0m \u001b[38;5;28;01mif\u001b[39;00m dtype \u001b[38;5;129;01mis\u001b[39;00m \u001b[38;5;129;01mnot\u001b[39;00m \u001b[38;5;28;01mNone\u001b[39;00m:\n\u001b[0;32m   1888\u001b[0m     dtype \u001b[38;5;241m=\u001b[39m np\u001b[38;5;241m.\u001b[39mdtype(dtype)\n\u001b[1;32m-> 1889\u001b[0m result \u001b[38;5;241m=\u001b[39m \u001b[38;5;28mself\u001b[39m\u001b[38;5;241m.\u001b[39m_mgr\u001b[38;5;241m.\u001b[39mas_array(dtype\u001b[38;5;241m=\u001b[39mdtype, copy\u001b[38;5;241m=\u001b[39mcopy, na_value\u001b[38;5;241m=\u001b[39mna_value)\n\u001b[0;32m   1890\u001b[0m \u001b[38;5;28;01mif\u001b[39;00m result\u001b[38;5;241m.\u001b[39mdtype \u001b[38;5;129;01mis\u001b[39;00m \u001b[38;5;129;01mnot\u001b[39;00m dtype:\n\u001b[0;32m   1891\u001b[0m     result \u001b[38;5;241m=\u001b[39m np\u001b[38;5;241m.\u001b[39marray(result, dtype\u001b[38;5;241m=\u001b[39mdtype, copy\u001b[38;5;241m=\u001b[39m\u001b[38;5;28;01mFalse\u001b[39;00m)\n",
      "File \u001b[1;32m~\\anaconda3\\Lib\\site-packages\\pandas\\core\\internals\\managers.py:1656\u001b[0m, in \u001b[0;36mBlockManager.as_array\u001b[1;34m(self, dtype, copy, na_value)\u001b[0m\n\u001b[0;32m   1654\u001b[0m         arr\u001b[38;5;241m.\u001b[39mflags\u001b[38;5;241m.\u001b[39mwriteable \u001b[38;5;241m=\u001b[39m \u001b[38;5;28;01mFalse\u001b[39;00m\n\u001b[0;32m   1655\u001b[0m \u001b[38;5;28;01melse\u001b[39;00m:\n\u001b[1;32m-> 1656\u001b[0m     arr \u001b[38;5;241m=\u001b[39m \u001b[38;5;28mself\u001b[39m\u001b[38;5;241m.\u001b[39m_interleave(dtype\u001b[38;5;241m=\u001b[39mdtype, na_value\u001b[38;5;241m=\u001b[39mna_value)\n\u001b[0;32m   1657\u001b[0m     \u001b[38;5;66;03m# The underlying data was copied within _interleave, so no need\u001b[39;00m\n\u001b[0;32m   1658\u001b[0m     \u001b[38;5;66;03m# to further copy if copy=True or setting na_value\u001b[39;00m\n\u001b[0;32m   1660\u001b[0m \u001b[38;5;28;01mif\u001b[39;00m na_value \u001b[38;5;129;01mis\u001b[39;00m lib\u001b[38;5;241m.\u001b[39mno_default:\n",
      "File \u001b[1;32m~\\anaconda3\\Lib\\site-packages\\pandas\\core\\internals\\managers.py:1715\u001b[0m, in \u001b[0;36mBlockManager._interleave\u001b[1;34m(self, dtype, na_value)\u001b[0m\n\u001b[0;32m   1713\u001b[0m     \u001b[38;5;28;01melse\u001b[39;00m:\n\u001b[0;32m   1714\u001b[0m         arr \u001b[38;5;241m=\u001b[39m blk\u001b[38;5;241m.\u001b[39mget_values(dtype)\n\u001b[1;32m-> 1715\u001b[0m     result[rl\u001b[38;5;241m.\u001b[39mindexer] \u001b[38;5;241m=\u001b[39m arr\n\u001b[0;32m   1716\u001b[0m     itemmask[rl\u001b[38;5;241m.\u001b[39mindexer] \u001b[38;5;241m=\u001b[39m \u001b[38;5;241m1\u001b[39m\n\u001b[0;32m   1718\u001b[0m \u001b[38;5;28;01mif\u001b[39;00m \u001b[38;5;129;01mnot\u001b[39;00m itemmask\u001b[38;5;241m.\u001b[39mall():\n",
      "\u001b[1;31mValueError\u001b[0m: could not convert string to float: 'Faint Yellow'"
     ]
    }
   ],
   "source": [
    "# corr = df.corr()['Target']\n",
    "# corr"
   ]
  },
  {
   "cell_type": "code",
   "execution_count": 15,
   "metadata": {
    "colab": {
     "base_uri": "https://localhost:8080/",
     "height": 1000
    },
    "executionInfo": {
     "elapsed": 4234,
     "status": "ok",
     "timestamp": 1707794136431,
     "user": {
      "displayName": "Uday krishnan ck",
      "userId": "10300820552917316551"
     },
     "user_tz": -330
    },
    "id": "QN9V_PDi_YKK",
    "outputId": "4fca2508-1127-48c4-b20a-d435a8564620"
   },
   "outputs": [
    {
     "ename": "ValueError",
     "evalue": "could not convert string to float: 'Faint Yellow'",
     "output_type": "error",
     "traceback": [
      "\u001b[1;31m---------------------------------------------------------------------------\u001b[0m",
      "\u001b[1;31mValueError\u001b[0m                                Traceback (most recent call last)",
      "Cell \u001b[1;32mIn[15], line 4\u001b[0m\n\u001b[0;32m      2\u001b[0m \u001b[38;5;28;01mimport\u001b[39;00m \u001b[38;5;21;01mmatplotlib\u001b[39;00m\u001b[38;5;21;01m.\u001b[39;00m\u001b[38;5;21;01mpyplot\u001b[39;00m \u001b[38;5;28;01mas\u001b[39;00m \u001b[38;5;21;01mplt\u001b[39;00m\n\u001b[0;32m      3\u001b[0m plt\u001b[38;5;241m.\u001b[39mfigure(figsize\u001b[38;5;241m=\u001b[39m(\u001b[38;5;241m17\u001b[39m,\u001b[38;5;241m10\u001b[39m))\n\u001b[1;32m----> 4\u001b[0m sns\u001b[38;5;241m.\u001b[39mheatmap(df\u001b[38;5;241m.\u001b[39mcorr(),annot\u001b[38;5;241m=\u001b[39m\u001b[38;5;28;01mTrue\u001b[39;00m)\n",
      "File \u001b[1;32m~\\anaconda3\\Lib\\site-packages\\pandas\\core\\frame.py:10704\u001b[0m, in \u001b[0;36mDataFrame.corr\u001b[1;34m(self, method, min_periods, numeric_only)\u001b[0m\n\u001b[0;32m  10702\u001b[0m cols \u001b[38;5;241m=\u001b[39m data\u001b[38;5;241m.\u001b[39mcolumns\n\u001b[0;32m  10703\u001b[0m idx \u001b[38;5;241m=\u001b[39m cols\u001b[38;5;241m.\u001b[39mcopy()\n\u001b[1;32m> 10704\u001b[0m mat \u001b[38;5;241m=\u001b[39m data\u001b[38;5;241m.\u001b[39mto_numpy(dtype\u001b[38;5;241m=\u001b[39m\u001b[38;5;28mfloat\u001b[39m, na_value\u001b[38;5;241m=\u001b[39mnp\u001b[38;5;241m.\u001b[39mnan, copy\u001b[38;5;241m=\u001b[39m\u001b[38;5;28;01mFalse\u001b[39;00m)\n\u001b[0;32m  10706\u001b[0m \u001b[38;5;28;01mif\u001b[39;00m method \u001b[38;5;241m==\u001b[39m \u001b[38;5;124m\"\u001b[39m\u001b[38;5;124mpearson\u001b[39m\u001b[38;5;124m\"\u001b[39m:\n\u001b[0;32m  10707\u001b[0m     correl \u001b[38;5;241m=\u001b[39m libalgos\u001b[38;5;241m.\u001b[39mnancorr(mat, minp\u001b[38;5;241m=\u001b[39mmin_periods)\n",
      "File \u001b[1;32m~\\anaconda3\\Lib\\site-packages\\pandas\\core\\frame.py:1889\u001b[0m, in \u001b[0;36mDataFrame.to_numpy\u001b[1;34m(self, dtype, copy, na_value)\u001b[0m\n\u001b[0;32m   1887\u001b[0m \u001b[38;5;28;01mif\u001b[39;00m dtype \u001b[38;5;129;01mis\u001b[39;00m \u001b[38;5;129;01mnot\u001b[39;00m \u001b[38;5;28;01mNone\u001b[39;00m:\n\u001b[0;32m   1888\u001b[0m     dtype \u001b[38;5;241m=\u001b[39m np\u001b[38;5;241m.\u001b[39mdtype(dtype)\n\u001b[1;32m-> 1889\u001b[0m result \u001b[38;5;241m=\u001b[39m \u001b[38;5;28mself\u001b[39m\u001b[38;5;241m.\u001b[39m_mgr\u001b[38;5;241m.\u001b[39mas_array(dtype\u001b[38;5;241m=\u001b[39mdtype, copy\u001b[38;5;241m=\u001b[39mcopy, na_value\u001b[38;5;241m=\u001b[39mna_value)\n\u001b[0;32m   1890\u001b[0m \u001b[38;5;28;01mif\u001b[39;00m result\u001b[38;5;241m.\u001b[39mdtype \u001b[38;5;129;01mis\u001b[39;00m \u001b[38;5;129;01mnot\u001b[39;00m dtype:\n\u001b[0;32m   1891\u001b[0m     result \u001b[38;5;241m=\u001b[39m np\u001b[38;5;241m.\u001b[39marray(result, dtype\u001b[38;5;241m=\u001b[39mdtype, copy\u001b[38;5;241m=\u001b[39m\u001b[38;5;28;01mFalse\u001b[39;00m)\n",
      "File \u001b[1;32m~\\anaconda3\\Lib\\site-packages\\pandas\\core\\internals\\managers.py:1656\u001b[0m, in \u001b[0;36mBlockManager.as_array\u001b[1;34m(self, dtype, copy, na_value)\u001b[0m\n\u001b[0;32m   1654\u001b[0m         arr\u001b[38;5;241m.\u001b[39mflags\u001b[38;5;241m.\u001b[39mwriteable \u001b[38;5;241m=\u001b[39m \u001b[38;5;28;01mFalse\u001b[39;00m\n\u001b[0;32m   1655\u001b[0m \u001b[38;5;28;01melse\u001b[39;00m:\n\u001b[1;32m-> 1656\u001b[0m     arr \u001b[38;5;241m=\u001b[39m \u001b[38;5;28mself\u001b[39m\u001b[38;5;241m.\u001b[39m_interleave(dtype\u001b[38;5;241m=\u001b[39mdtype, na_value\u001b[38;5;241m=\u001b[39mna_value)\n\u001b[0;32m   1657\u001b[0m     \u001b[38;5;66;03m# The underlying data was copied within _interleave, so no need\u001b[39;00m\n\u001b[0;32m   1658\u001b[0m     \u001b[38;5;66;03m# to further copy if copy=True or setting na_value\u001b[39;00m\n\u001b[0;32m   1660\u001b[0m \u001b[38;5;28;01mif\u001b[39;00m na_value \u001b[38;5;129;01mis\u001b[39;00m lib\u001b[38;5;241m.\u001b[39mno_default:\n",
      "File \u001b[1;32m~\\anaconda3\\Lib\\site-packages\\pandas\\core\\internals\\managers.py:1715\u001b[0m, in \u001b[0;36mBlockManager._interleave\u001b[1;34m(self, dtype, na_value)\u001b[0m\n\u001b[0;32m   1713\u001b[0m     \u001b[38;5;28;01melse\u001b[39;00m:\n\u001b[0;32m   1714\u001b[0m         arr \u001b[38;5;241m=\u001b[39m blk\u001b[38;5;241m.\u001b[39mget_values(dtype)\n\u001b[1;32m-> 1715\u001b[0m     result[rl\u001b[38;5;241m.\u001b[39mindexer] \u001b[38;5;241m=\u001b[39m arr\n\u001b[0;32m   1716\u001b[0m     itemmask[rl\u001b[38;5;241m.\u001b[39mindexer] \u001b[38;5;241m=\u001b[39m \u001b[38;5;241m1\u001b[39m\n\u001b[0;32m   1718\u001b[0m \u001b[38;5;28;01mif\u001b[39;00m \u001b[38;5;129;01mnot\u001b[39;00m itemmask\u001b[38;5;241m.\u001b[39mall():\n",
      "\u001b[1;31mValueError\u001b[0m: could not convert string to float: 'Faint Yellow'"
     ]
    },
    {
     "data": {
      "text/plain": [
       "<Figure size 1700x1000 with 0 Axes>"
      ]
     },
     "metadata": {},
     "output_type": "display_data"
    }
   ],
   "source": [
    "# import seaborn as sns\n",
    "# import matplotlib.pyplot as plt\n",
    "# plt.figure(figsize=(17,10))\n",
    "# sns.heatmap(df.corr(),annot=True)"
   ]
  },
  {
   "cell_type": "code",
   "execution_count": 16,
   "metadata": {
    "colab": {
     "base_uri": "https://localhost:8080/",
     "height": 347
    },
    "executionInfo": {
     "elapsed": 92,
     "status": "ok",
     "timestamp": 1707794136432,
     "user": {
      "displayName": "Uday krishnan ck",
      "userId": "10300820552917316551"
     },
     "user_tz": -330
    },
    "id": "PzipXLqcW7Dg",
    "outputId": "9bb61533-8e8f-4aca-a709-ad6255e49f90"
   },
   "outputs": [
    {
     "data": {
      "text/html": [
       "<div>\n",
       "<style scoped>\n",
       "    .dataframe tbody tr th:only-of-type {\n",
       "        vertical-align: middle;\n",
       "    }\n",
       "\n",
       "    .dataframe tbody tr th {\n",
       "        vertical-align: top;\n",
       "    }\n",
       "\n",
       "    .dataframe thead th {\n",
       "        text-align: right;\n",
       "    }\n",
       "</style>\n",
       "<table border=\"1\" class=\"dataframe\">\n",
       "  <thead>\n",
       "    <tr style=\"text-align: right;\">\n",
       "      <th></th>\n",
       "      <th>pH</th>\n",
       "      <th>Iron</th>\n",
       "      <th>Nitrate</th>\n",
       "      <th>Chloride</th>\n",
       "      <th>Lead</th>\n",
       "      <th>Zinc</th>\n",
       "      <th>Turbidity</th>\n",
       "      <th>Fluoride</th>\n",
       "      <th>Copper</th>\n",
       "      <th>Odor</th>\n",
       "      <th>Sulfate</th>\n",
       "      <th>Conductivity</th>\n",
       "      <th>Chlorine</th>\n",
       "      <th>Manganese</th>\n",
       "      <th>Total Dissolved Solids</th>\n",
       "      <th>Source</th>\n",
       "      <th>Water Temperature</th>\n",
       "      <th>Air Temperature</th>\n",
       "      <th>Target</th>\n",
       "    </tr>\n",
       "  </thead>\n",
       "  <tbody>\n",
       "    <tr>\n",
       "      <th>0</th>\n",
       "      <td>19.031583</td>\n",
       "      <td>9.511978e-03</td>\n",
       "      <td>2.235122</td>\n",
       "      <td>122.273589</td>\n",
       "      <td>6.400000e-177</td>\n",
       "      <td>0.942979</td>\n",
       "      <td>0.070184</td>\n",
       "      <td>0.732070</td>\n",
       "      <td>0.082736</td>\n",
       "      <td>2.117727</td>\n",
       "      <td>205.326906</td>\n",
       "      <td>530.254948</td>\n",
       "      <td>3.157376</td>\n",
       "      <td>0.001763</td>\n",
       "      <td>456.793182</td>\n",
       "      <td>River</td>\n",
       "      <td>14.827394</td>\n",
       "      <td>52.075492</td>\n",
       "      <td>0</td>\n",
       "    </tr>\n",
       "    <tr>\n",
       "      <th>1</th>\n",
       "      <td>7.463003</td>\n",
       "      <td>1.674803e-02</td>\n",
       "      <td>7.021158</td>\n",
       "      <td>131.083370</td>\n",
       "      <td>2.330000e-24</td>\n",
       "      <td>1.131442</td>\n",
       "      <td>0.222806</td>\n",
       "      <td>0.701338</td>\n",
       "      <td>0.467575</td>\n",
       "      <td>0.860265</td>\n",
       "      <td>48.806921</td>\n",
       "      <td>278.441149</td>\n",
       "      <td>3.119091</td>\n",
       "      <td>0.000039</td>\n",
       "      <td>409.061672</td>\n",
       "      <td>Reservoir</td>\n",
       "      <td>10.842923</td>\n",
       "      <td>35.846296</td>\n",
       "      <td>0</td>\n",
       "    </tr>\n",
       "    <tr>\n",
       "      <th>2</th>\n",
       "      <td>6.944904</td>\n",
       "      <td>4.849628e-02</td>\n",
       "      <td>2.968023</td>\n",
       "      <td>124.030450</td>\n",
       "      <td>5.200000e-46</td>\n",
       "      <td>1.273938</td>\n",
       "      <td>0.049193</td>\n",
       "      <td>0.313671</td>\n",
       "      <td>0.278562</td>\n",
       "      <td>0.939310</td>\n",
       "      <td>133.588152</td>\n",
       "      <td>366.082418</td>\n",
       "      <td>3.826644</td>\n",
       "      <td>0.000001</td>\n",
       "      <td>109.561870</td>\n",
       "      <td>Lake</td>\n",
       "      <td>10.849417</td>\n",
       "      <td>60.833200</td>\n",
       "      <td>0</td>\n",
       "    </tr>\n",
       "    <tr>\n",
       "      <th>3</th>\n",
       "      <td>6.728820</td>\n",
       "      <td>2.230000e-12</td>\n",
       "      <td>8.562181</td>\n",
       "      <td>186.369086</td>\n",
       "      <td>3.330000e-53</td>\n",
       "      <td>2.001116</td>\n",
       "      <td>0.051986</td>\n",
       "      <td>0.384584</td>\n",
       "      <td>0.208666</td>\n",
       "      <td>0.569524</td>\n",
       "      <td>90.793262</td>\n",
       "      <td>535.601305</td>\n",
       "      <td>4.170658</td>\n",
       "      <td>0.000087</td>\n",
       "      <td>493.432745</td>\n",
       "      <td>Spring</td>\n",
       "      <td>25.641507</td>\n",
       "      <td>70.002343</td>\n",
       "      <td>0</td>\n",
       "    </tr>\n",
       "    <tr>\n",
       "      <th>4</th>\n",
       "      <td>6.831221</td>\n",
       "      <td>2.383868e-02</td>\n",
       "      <td>14.216921</td>\n",
       "      <td>212.692448</td>\n",
       "      <td>1.100000e-141</td>\n",
       "      <td>2.152753</td>\n",
       "      <td>7.051675</td>\n",
       "      <td>0.825141</td>\n",
       "      <td>0.547154</td>\n",
       "      <td>0.785177</td>\n",
       "      <td>69.844499</td>\n",
       "      <td>427.821755</td>\n",
       "      <td>3.073699</td>\n",
       "      <td>0.000866</td>\n",
       "      <td>492.020035</td>\n",
       "      <td>Stream</td>\n",
       "      <td>43.365629</td>\n",
       "      <td>57.665318</td>\n",
       "      <td>0</td>\n",
       "    </tr>\n",
       "  </tbody>\n",
       "</table>\n",
       "</div>"
      ],
      "text/plain": [
       "          pH          Iron    Nitrate    Chloride           Lead      Zinc  \\\n",
       "0  19.031583  9.511978e-03   2.235122  122.273589  6.400000e-177  0.942979   \n",
       "1   7.463003  1.674803e-02   7.021158  131.083370   2.330000e-24  1.131442   \n",
       "2   6.944904  4.849628e-02   2.968023  124.030450   5.200000e-46  1.273938   \n",
       "3   6.728820  2.230000e-12   8.562181  186.369086   3.330000e-53  2.001116   \n",
       "4   6.831221  2.383868e-02  14.216921  212.692448  1.100000e-141  2.152753   \n",
       "\n",
       "   Turbidity  Fluoride    Copper      Odor     Sulfate  Conductivity  \\\n",
       "0   0.070184  0.732070  0.082736  2.117727  205.326906    530.254948   \n",
       "1   0.222806  0.701338  0.467575  0.860265   48.806921    278.441149   \n",
       "2   0.049193  0.313671  0.278562  0.939310  133.588152    366.082418   \n",
       "3   0.051986  0.384584  0.208666  0.569524   90.793262    535.601305   \n",
       "4   7.051675  0.825141  0.547154  0.785177   69.844499    427.821755   \n",
       "\n",
       "   Chlorine  Manganese  Total Dissolved Solids     Source  Water Temperature  \\\n",
       "0  3.157376   0.001763              456.793182      River          14.827394   \n",
       "1  3.119091   0.000039              409.061672  Reservoir          10.842923   \n",
       "2  3.826644   0.000001              109.561870       Lake          10.849417   \n",
       "3  4.170658   0.000087              493.432745     Spring          25.641507   \n",
       "4  3.073699   0.000866              492.020035     Stream          43.365629   \n",
       "\n",
       "   Air Temperature  Target  \n",
       "0        52.075492       0  \n",
       "1        35.846296       0  \n",
       "2        60.833200       0  \n",
       "3        70.002343       0  \n",
       "4        57.665318       0  "
      ]
     },
     "execution_count": 16,
     "metadata": {},
     "output_type": "execute_result"
    }
   ],
   "source": [
    "df.drop(['Index','Color','Month','Day','Time of Day'],axis=1,inplace=True)\n",
    "df.head()"
   ]
  },
  {
   "cell_type": "code",
   "execution_count": 17,
   "metadata": {
    "colab": {
     "base_uri": "https://localhost:8080/"
    },
    "executionInfo": {
     "elapsed": 89,
     "status": "ok",
     "timestamp": 1707794136432,
     "user": {
      "displayName": "Uday krishnan ck",
      "userId": "10300820552917316551"
     },
     "user_tz": -330
    },
    "id": "S169vf7jnRVw",
    "outputId": "a8c8b32c-088e-47c3-b871-408acfd901fd"
   },
   "outputs": [
    {
     "data": {
      "text/plain": [
       "0    Aquifer\n",
       "Name: Source, dtype: object"
      ]
     },
     "execution_count": 17,
     "metadata": {},
     "output_type": "execute_result"
    }
   ],
   "source": [
    "mod = df[\"Source\"].mode()\n",
    "mod"
   ]
  },
  {
   "cell_type": "code",
   "execution_count": 18,
   "metadata": {
    "id": "SooJ99vHW66N"
   },
   "outputs": [],
   "source": [
    "df['Source'].fillna('Aquifer',inplace=True)"
   ]
  },
  {
   "cell_type": "code",
   "execution_count": 19,
   "metadata": {
    "colab": {
     "base_uri": "https://localhost:8080/"
    },
    "executionInfo": {
     "elapsed": 85,
     "status": "ok",
     "timestamp": 1707794136432,
     "user": {
      "displayName": "Uday krishnan ck",
      "userId": "10300820552917316551"
     },
     "user_tz": -330
    },
    "id": "k64u626tW64j",
    "outputId": "9d587b7c-9883-4fb9-d80f-a1eb537f9e73"
   },
   "outputs": [
    {
     "data": {
      "text/plain": [
       "pH                        0\n",
       "Iron                      0\n",
       "Nitrate                   0\n",
       "Chloride                  0\n",
       "Lead                      0\n",
       "Zinc                      0\n",
       "Turbidity                 0\n",
       "Fluoride                  0\n",
       "Copper                    0\n",
       "Odor                      0\n",
       "Sulfate                   0\n",
       "Conductivity              0\n",
       "Chlorine                  0\n",
       "Manganese                 0\n",
       "Total Dissolved Solids    0\n",
       "Source                    0\n",
       "Water Temperature         0\n",
       "Air Temperature           0\n",
       "Target                    0\n",
       "dtype: int64"
      ]
     },
     "execution_count": 19,
     "metadata": {},
     "output_type": "execute_result"
    }
   ],
   "source": [
    "df.isna().sum()"
   ]
  },
  {
   "cell_type": "code",
   "execution_count": 20,
   "metadata": {
    "colab": {
     "base_uri": "https://localhost:8080/",
     "height": 347
    },
    "executionInfo": {
     "elapsed": 83,
     "status": "ok",
     "timestamp": 1707794136432,
     "user": {
      "displayName": "Uday krishnan ck",
      "userId": "10300820552917316551"
     },
     "user_tz": -330
    },
    "id": "gVwR-5dRW62o",
    "outputId": "8b6e7d42-6a8a-43ee-b131-ac9141410efe"
   },
   "outputs": [
    {
     "data": {
      "text/html": [
       "<div>\n",
       "<style scoped>\n",
       "    .dataframe tbody tr th:only-of-type {\n",
       "        vertical-align: middle;\n",
       "    }\n",
       "\n",
       "    .dataframe tbody tr th {\n",
       "        vertical-align: top;\n",
       "    }\n",
       "\n",
       "    .dataframe thead th {\n",
       "        text-align: right;\n",
       "    }\n",
       "</style>\n",
       "<table border=\"1\" class=\"dataframe\">\n",
       "  <thead>\n",
       "    <tr style=\"text-align: right;\">\n",
       "      <th></th>\n",
       "      <th>pH</th>\n",
       "      <th>Iron</th>\n",
       "      <th>Nitrate</th>\n",
       "      <th>Chloride</th>\n",
       "      <th>Lead</th>\n",
       "      <th>Zinc</th>\n",
       "      <th>Turbidity</th>\n",
       "      <th>Fluoride</th>\n",
       "      <th>Copper</th>\n",
       "      <th>Odor</th>\n",
       "      <th>Sulfate</th>\n",
       "      <th>Conductivity</th>\n",
       "      <th>Chlorine</th>\n",
       "      <th>Manganese</th>\n",
       "      <th>Total Dissolved Solids</th>\n",
       "      <th>Source</th>\n",
       "      <th>Water Temperature</th>\n",
       "      <th>Air Temperature</th>\n",
       "      <th>Target</th>\n",
       "    </tr>\n",
       "  </thead>\n",
       "  <tbody>\n",
       "    <tr>\n",
       "      <th>0</th>\n",
       "      <td>19.031583</td>\n",
       "      <td>9.511978e-03</td>\n",
       "      <td>2.235122</td>\n",
       "      <td>122.273589</td>\n",
       "      <td>6.400000e-177</td>\n",
       "      <td>0.942979</td>\n",
       "      <td>0.070184</td>\n",
       "      <td>0.732070</td>\n",
       "      <td>0.082736</td>\n",
       "      <td>2.117727</td>\n",
       "      <td>205.326906</td>\n",
       "      <td>530.254948</td>\n",
       "      <td>3.157376</td>\n",
       "      <td>0.001763</td>\n",
       "      <td>456.793182</td>\n",
       "      <td>4</td>\n",
       "      <td>14.827394</td>\n",
       "      <td>52.075492</td>\n",
       "      <td>0</td>\n",
       "    </tr>\n",
       "    <tr>\n",
       "      <th>1</th>\n",
       "      <td>7.463003</td>\n",
       "      <td>1.674803e-02</td>\n",
       "      <td>7.021158</td>\n",
       "      <td>131.083370</td>\n",
       "      <td>2.330000e-24</td>\n",
       "      <td>1.131442</td>\n",
       "      <td>0.222806</td>\n",
       "      <td>0.701338</td>\n",
       "      <td>0.467575</td>\n",
       "      <td>0.860265</td>\n",
       "      <td>48.806921</td>\n",
       "      <td>278.441149</td>\n",
       "      <td>3.119091</td>\n",
       "      <td>0.000039</td>\n",
       "      <td>409.061672</td>\n",
       "      <td>3</td>\n",
       "      <td>10.842923</td>\n",
       "      <td>35.846296</td>\n",
       "      <td>0</td>\n",
       "    </tr>\n",
       "    <tr>\n",
       "      <th>2</th>\n",
       "      <td>6.944904</td>\n",
       "      <td>4.849628e-02</td>\n",
       "      <td>2.968023</td>\n",
       "      <td>124.030450</td>\n",
       "      <td>5.200000e-46</td>\n",
       "      <td>1.273938</td>\n",
       "      <td>0.049193</td>\n",
       "      <td>0.313671</td>\n",
       "      <td>0.278562</td>\n",
       "      <td>0.939310</td>\n",
       "      <td>133.588152</td>\n",
       "      <td>366.082418</td>\n",
       "      <td>3.826644</td>\n",
       "      <td>0.000001</td>\n",
       "      <td>109.561870</td>\n",
       "      <td>2</td>\n",
       "      <td>10.849417</td>\n",
       "      <td>60.833200</td>\n",
       "      <td>0</td>\n",
       "    </tr>\n",
       "    <tr>\n",
       "      <th>3</th>\n",
       "      <td>6.728820</td>\n",
       "      <td>2.230000e-12</td>\n",
       "      <td>8.562181</td>\n",
       "      <td>186.369086</td>\n",
       "      <td>3.330000e-53</td>\n",
       "      <td>2.001116</td>\n",
       "      <td>0.051986</td>\n",
       "      <td>0.384584</td>\n",
       "      <td>0.208666</td>\n",
       "      <td>0.569524</td>\n",
       "      <td>90.793262</td>\n",
       "      <td>535.601305</td>\n",
       "      <td>4.170658</td>\n",
       "      <td>0.000087</td>\n",
       "      <td>493.432745</td>\n",
       "      <td>5</td>\n",
       "      <td>25.641507</td>\n",
       "      <td>70.002343</td>\n",
       "      <td>0</td>\n",
       "    </tr>\n",
       "    <tr>\n",
       "      <th>4</th>\n",
       "      <td>6.831221</td>\n",
       "      <td>2.383868e-02</td>\n",
       "      <td>14.216921</td>\n",
       "      <td>212.692448</td>\n",
       "      <td>1.100000e-141</td>\n",
       "      <td>2.152753</td>\n",
       "      <td>7.051675</td>\n",
       "      <td>0.825141</td>\n",
       "      <td>0.547154</td>\n",
       "      <td>0.785177</td>\n",
       "      <td>69.844499</td>\n",
       "      <td>427.821755</td>\n",
       "      <td>3.073699</td>\n",
       "      <td>0.000866</td>\n",
       "      <td>492.020035</td>\n",
       "      <td>6</td>\n",
       "      <td>43.365629</td>\n",
       "      <td>57.665318</td>\n",
       "      <td>0</td>\n",
       "    </tr>\n",
       "  </tbody>\n",
       "</table>\n",
       "</div>"
      ],
      "text/plain": [
       "          pH          Iron    Nitrate    Chloride           Lead      Zinc  \\\n",
       "0  19.031583  9.511978e-03   2.235122  122.273589  6.400000e-177  0.942979   \n",
       "1   7.463003  1.674803e-02   7.021158  131.083370   2.330000e-24  1.131442   \n",
       "2   6.944904  4.849628e-02   2.968023  124.030450   5.200000e-46  1.273938   \n",
       "3   6.728820  2.230000e-12   8.562181  186.369086   3.330000e-53  2.001116   \n",
       "4   6.831221  2.383868e-02  14.216921  212.692448  1.100000e-141  2.152753   \n",
       "\n",
       "   Turbidity  Fluoride    Copper      Odor     Sulfate  Conductivity  \\\n",
       "0   0.070184  0.732070  0.082736  2.117727  205.326906    530.254948   \n",
       "1   0.222806  0.701338  0.467575  0.860265   48.806921    278.441149   \n",
       "2   0.049193  0.313671  0.278562  0.939310  133.588152    366.082418   \n",
       "3   0.051986  0.384584  0.208666  0.569524   90.793262    535.601305   \n",
       "4   7.051675  0.825141  0.547154  0.785177   69.844499    427.821755   \n",
       "\n",
       "   Chlorine  Manganese  Total Dissolved Solids  Source  Water Temperature  \\\n",
       "0  3.157376   0.001763              456.793182       4          14.827394   \n",
       "1  3.119091   0.000039              409.061672       3          10.842923   \n",
       "2  3.826644   0.000001              109.561870       2          10.849417   \n",
       "3  4.170658   0.000087              493.432745       5          25.641507   \n",
       "4  3.073699   0.000866              492.020035       6          43.365629   \n",
       "\n",
       "   Air Temperature  Target  \n",
       "0        52.075492       0  \n",
       "1        35.846296       0  \n",
       "2        60.833200       0  \n",
       "3        70.002343       0  \n",
       "4        57.665318       0  "
      ]
     },
     "execution_count": 20,
     "metadata": {},
     "output_type": "execute_result"
    }
   ],
   "source": [
    "from sklearn.preprocessing import LabelEncoder\n",
    "le=LabelEncoder()\n",
    "df['Source'] = le.fit_transform(df['Source'])\n",
    "df.head()"
   ]
  },
  {
   "cell_type": "markdown",
   "metadata": {
    "id": "F9p_SXJXhH0e"
   },
   "source": [
    "0 aquifier,\n",
    "1 ground,\n",
    "2 lake,\n",
    "3 reservoir,\n",
    "4 river,\n",
    "5 Spring,\n",
    "6 stream,\n",
    "7 well"
   ]
  },
  {
   "cell_type": "markdown",
   "metadata": {
    "id": "gDIPYrTH2ZBT"
   },
   "source": [
    "# **MODEL CREATION**"
   ]
  },
  {
   "cell_type": "markdown",
   "metadata": {
    "id": "rvP09NuA2aFC"
   },
   "source": [
    "# **Classification Algorithms**\n",
    "1. **K-NEAREST NEIGHBOR (KNN)**\n",
    "\n",
    "2. **GAUSSIAN NAIVE BAYES**\n",
    "\n",
    "3. **BERNOULLI NAIVE BAYES**\n",
    "\n",
    "4. **SUPPORT VECTOR MACHINE**\n",
    "\n",
    "5. **DECISION TREE**\n",
    "\n",
    "6. **RANDOM FOREST**\n",
    "\n",
    "7. **ADA BOOST**\n",
    "\n",
    "8. **LOGISTIC REGRESSION**"
   ]
  },
  {
   "cell_type": "code",
   "execution_count": 21,
   "metadata": {
    "id": "UN2_3rVCW61k"
   },
   "outputs": [],
   "source": [
    "x = df.drop('Target',axis=1)\n",
    "y = df['Target']"
   ]
  },
  {
   "cell_type": "code",
   "execution_count": 22,
   "metadata": {
    "colab": {
     "base_uri": "https://localhost:8080/",
     "height": 347
    },
    "executionInfo": {
     "elapsed": 80,
     "status": "ok",
     "timestamp": 1707794136432,
     "user": {
      "displayName": "Uday krishnan ck",
      "userId": "10300820552917316551"
     },
     "user_tz": -330
    },
    "id": "iV7HUJ1VW60H",
    "outputId": "ae3b194b-51be-44f3-84c5-548d01b07da5"
   },
   "outputs": [
    {
     "data": {
      "text/html": [
       "<div>\n",
       "<style scoped>\n",
       "    .dataframe tbody tr th:only-of-type {\n",
       "        vertical-align: middle;\n",
       "    }\n",
       "\n",
       "    .dataframe tbody tr th {\n",
       "        vertical-align: top;\n",
       "    }\n",
       "\n",
       "    .dataframe thead th {\n",
       "        text-align: right;\n",
       "    }\n",
       "</style>\n",
       "<table border=\"1\" class=\"dataframe\">\n",
       "  <thead>\n",
       "    <tr style=\"text-align: right;\">\n",
       "      <th></th>\n",
       "      <th>pH</th>\n",
       "      <th>Iron</th>\n",
       "      <th>Nitrate</th>\n",
       "      <th>Chloride</th>\n",
       "      <th>Lead</th>\n",
       "      <th>Zinc</th>\n",
       "      <th>Turbidity</th>\n",
       "      <th>Fluoride</th>\n",
       "      <th>Copper</th>\n",
       "      <th>Odor</th>\n",
       "      <th>Sulfate</th>\n",
       "      <th>Conductivity</th>\n",
       "      <th>Chlorine</th>\n",
       "      <th>Manganese</th>\n",
       "      <th>Total Dissolved Solids</th>\n",
       "      <th>Source</th>\n",
       "      <th>Water Temperature</th>\n",
       "      <th>Air Temperature</th>\n",
       "    </tr>\n",
       "  </thead>\n",
       "  <tbody>\n",
       "    <tr>\n",
       "      <th>0</th>\n",
       "      <td>19.031583</td>\n",
       "      <td>9.511978e-03</td>\n",
       "      <td>2.235122</td>\n",
       "      <td>122.273589</td>\n",
       "      <td>6.400000e-177</td>\n",
       "      <td>0.942979</td>\n",
       "      <td>0.070184</td>\n",
       "      <td>0.732070</td>\n",
       "      <td>0.082736</td>\n",
       "      <td>2.117727</td>\n",
       "      <td>205.326906</td>\n",
       "      <td>530.254948</td>\n",
       "      <td>3.157376</td>\n",
       "      <td>0.001763</td>\n",
       "      <td>456.793182</td>\n",
       "      <td>4</td>\n",
       "      <td>14.827394</td>\n",
       "      <td>52.075492</td>\n",
       "    </tr>\n",
       "    <tr>\n",
       "      <th>1</th>\n",
       "      <td>7.463003</td>\n",
       "      <td>1.674803e-02</td>\n",
       "      <td>7.021158</td>\n",
       "      <td>131.083370</td>\n",
       "      <td>2.330000e-24</td>\n",
       "      <td>1.131442</td>\n",
       "      <td>0.222806</td>\n",
       "      <td>0.701338</td>\n",
       "      <td>0.467575</td>\n",
       "      <td>0.860265</td>\n",
       "      <td>48.806921</td>\n",
       "      <td>278.441149</td>\n",
       "      <td>3.119091</td>\n",
       "      <td>0.000039</td>\n",
       "      <td>409.061672</td>\n",
       "      <td>3</td>\n",
       "      <td>10.842923</td>\n",
       "      <td>35.846296</td>\n",
       "    </tr>\n",
       "    <tr>\n",
       "      <th>2</th>\n",
       "      <td>6.944904</td>\n",
       "      <td>4.849628e-02</td>\n",
       "      <td>2.968023</td>\n",
       "      <td>124.030450</td>\n",
       "      <td>5.200000e-46</td>\n",
       "      <td>1.273938</td>\n",
       "      <td>0.049193</td>\n",
       "      <td>0.313671</td>\n",
       "      <td>0.278562</td>\n",
       "      <td>0.939310</td>\n",
       "      <td>133.588152</td>\n",
       "      <td>366.082418</td>\n",
       "      <td>3.826644</td>\n",
       "      <td>0.000001</td>\n",
       "      <td>109.561870</td>\n",
       "      <td>2</td>\n",
       "      <td>10.849417</td>\n",
       "      <td>60.833200</td>\n",
       "    </tr>\n",
       "    <tr>\n",
       "      <th>3</th>\n",
       "      <td>6.728820</td>\n",
       "      <td>2.230000e-12</td>\n",
       "      <td>8.562181</td>\n",
       "      <td>186.369086</td>\n",
       "      <td>3.330000e-53</td>\n",
       "      <td>2.001116</td>\n",
       "      <td>0.051986</td>\n",
       "      <td>0.384584</td>\n",
       "      <td>0.208666</td>\n",
       "      <td>0.569524</td>\n",
       "      <td>90.793262</td>\n",
       "      <td>535.601305</td>\n",
       "      <td>4.170658</td>\n",
       "      <td>0.000087</td>\n",
       "      <td>493.432745</td>\n",
       "      <td>5</td>\n",
       "      <td>25.641507</td>\n",
       "      <td>70.002343</td>\n",
       "    </tr>\n",
       "    <tr>\n",
       "      <th>4</th>\n",
       "      <td>6.831221</td>\n",
       "      <td>2.383868e-02</td>\n",
       "      <td>14.216921</td>\n",
       "      <td>212.692448</td>\n",
       "      <td>1.100000e-141</td>\n",
       "      <td>2.152753</td>\n",
       "      <td>7.051675</td>\n",
       "      <td>0.825141</td>\n",
       "      <td>0.547154</td>\n",
       "      <td>0.785177</td>\n",
       "      <td>69.844499</td>\n",
       "      <td>427.821755</td>\n",
       "      <td>3.073699</td>\n",
       "      <td>0.000866</td>\n",
       "      <td>492.020035</td>\n",
       "      <td>6</td>\n",
       "      <td>43.365629</td>\n",
       "      <td>57.665318</td>\n",
       "    </tr>\n",
       "  </tbody>\n",
       "</table>\n",
       "</div>"
      ],
      "text/plain": [
       "          pH          Iron    Nitrate    Chloride           Lead      Zinc  \\\n",
       "0  19.031583  9.511978e-03   2.235122  122.273589  6.400000e-177  0.942979   \n",
       "1   7.463003  1.674803e-02   7.021158  131.083370   2.330000e-24  1.131442   \n",
       "2   6.944904  4.849628e-02   2.968023  124.030450   5.200000e-46  1.273938   \n",
       "3   6.728820  2.230000e-12   8.562181  186.369086   3.330000e-53  2.001116   \n",
       "4   6.831221  2.383868e-02  14.216921  212.692448  1.100000e-141  2.152753   \n",
       "\n",
       "   Turbidity  Fluoride    Copper      Odor     Sulfate  Conductivity  \\\n",
       "0   0.070184  0.732070  0.082736  2.117727  205.326906    530.254948   \n",
       "1   0.222806  0.701338  0.467575  0.860265   48.806921    278.441149   \n",
       "2   0.049193  0.313671  0.278562  0.939310  133.588152    366.082418   \n",
       "3   0.051986  0.384584  0.208666  0.569524   90.793262    535.601305   \n",
       "4   7.051675  0.825141  0.547154  0.785177   69.844499    427.821755   \n",
       "\n",
       "   Chlorine  Manganese  Total Dissolved Solids  Source  Water Temperature  \\\n",
       "0  3.157376   0.001763              456.793182       4          14.827394   \n",
       "1  3.119091   0.000039              409.061672       3          10.842923   \n",
       "2  3.826644   0.000001              109.561870       2          10.849417   \n",
       "3  4.170658   0.000087              493.432745       5          25.641507   \n",
       "4  3.073699   0.000866              492.020035       6          43.365629   \n",
       "\n",
       "   Air Temperature  \n",
       "0        52.075492  \n",
       "1        35.846296  \n",
       "2        60.833200  \n",
       "3        70.002343  \n",
       "4        57.665318  "
      ]
     },
     "execution_count": 22,
     "metadata": {},
     "output_type": "execute_result"
    }
   ],
   "source": [
    "x.head()"
   ]
  },
  {
   "cell_type": "code",
   "execution_count": 23,
   "metadata": {
    "id": "xq1OuNchW6yo"
   },
   "outputs": [],
   "source": [
    "from sklearn.model_selection import train_test_split\n",
    "x_train,x_test,y_train,y_test = train_test_split(x,y,test_size=0.3,random_state=0)"
   ]
  },
  {
   "cell_type": "code",
   "execution_count": 24,
   "metadata": {
    "colab": {
     "base_uri": "https://localhost:8080/",
     "height": 347
    },
    "executionInfo": {
     "elapsed": 79,
     "status": "ok",
     "timestamp": 1707794136433,
     "user": {
      "displayName": "Uday krishnan ck",
      "userId": "10300820552917316551"
     },
     "user_tz": -330
    },
    "id": "yJduf2nGW6xR",
    "outputId": "81860e71-817f-4337-81eb-236b9aad1f4d"
   },
   "outputs": [
    {
     "data": {
      "text/html": [
       "<div>\n",
       "<style scoped>\n",
       "    .dataframe tbody tr th:only-of-type {\n",
       "        vertical-align: middle;\n",
       "    }\n",
       "\n",
       "    .dataframe tbody tr th {\n",
       "        vertical-align: top;\n",
       "    }\n",
       "\n",
       "    .dataframe thead th {\n",
       "        text-align: right;\n",
       "    }\n",
       "</style>\n",
       "<table border=\"1\" class=\"dataframe\">\n",
       "  <thead>\n",
       "    <tr style=\"text-align: right;\">\n",
       "      <th></th>\n",
       "      <th>pH</th>\n",
       "      <th>Iron</th>\n",
       "      <th>Nitrate</th>\n",
       "      <th>Chloride</th>\n",
       "      <th>Lead</th>\n",
       "      <th>Zinc</th>\n",
       "      <th>Turbidity</th>\n",
       "      <th>Fluoride</th>\n",
       "      <th>Copper</th>\n",
       "      <th>Odor</th>\n",
       "      <th>Sulfate</th>\n",
       "      <th>Conductivity</th>\n",
       "      <th>Chlorine</th>\n",
       "      <th>Manganese</th>\n",
       "      <th>Total Dissolved Solids</th>\n",
       "      <th>Source</th>\n",
       "      <th>Water Temperature</th>\n",
       "      <th>Air Temperature</th>\n",
       "    </tr>\n",
       "  </thead>\n",
       "  <tbody>\n",
       "    <tr>\n",
       "      <th>12341</th>\n",
       "      <td>6.225194</td>\n",
       "      <td>2.437080e-04</td>\n",
       "      <td>6.789945</td>\n",
       "      <td>157.413401</td>\n",
       "      <td>9.170000e-131</td>\n",
       "      <td>1.548245</td>\n",
       "      <td>0.113643</td>\n",
       "      <td>0.127088</td>\n",
       "      <td>0.014945</td>\n",
       "      <td>3.943152</td>\n",
       "      <td>409.493754</td>\n",
       "      <td>476.659229</td>\n",
       "      <td>3.663149</td>\n",
       "      <td>0.379936</td>\n",
       "      <td>105.765197</td>\n",
       "      <td>6</td>\n",
       "      <td>12.214628</td>\n",
       "      <td>83.209726</td>\n",
       "    </tr>\n",
       "    <tr>\n",
       "      <th>23375</th>\n",
       "      <td>9.135272</td>\n",
       "      <td>1.600000e-09</td>\n",
       "      <td>4.888014</td>\n",
       "      <td>243.463047</td>\n",
       "      <td>8.860000e-07</td>\n",
       "      <td>0.801731</td>\n",
       "      <td>0.074493</td>\n",
       "      <td>1.657864</td>\n",
       "      <td>0.185090</td>\n",
       "      <td>2.861244</td>\n",
       "      <td>70.912064</td>\n",
       "      <td>269.246499</td>\n",
       "      <td>3.980996</td>\n",
       "      <td>0.707126</td>\n",
       "      <td>77.621717</td>\n",
       "      <td>3</td>\n",
       "      <td>25.529476</td>\n",
       "      <td>53.165002</td>\n",
       "    </tr>\n",
       "    <tr>\n",
       "      <th>9928</th>\n",
       "      <td>5.199836</td>\n",
       "      <td>2.430000e-05</td>\n",
       "      <td>15.716177</td>\n",
       "      <td>210.015569</td>\n",
       "      <td>3.180000e-99</td>\n",
       "      <td>1.027419</td>\n",
       "      <td>0.302372</td>\n",
       "      <td>0.564601</td>\n",
       "      <td>0.161322</td>\n",
       "      <td>3.186841</td>\n",
       "      <td>244.557098</td>\n",
       "      <td>374.192210</td>\n",
       "      <td>2.263721</td>\n",
       "      <td>0.313441</td>\n",
       "      <td>527.293723</td>\n",
       "      <td>0</td>\n",
       "      <td>23.740170</td>\n",
       "      <td>85.916662</td>\n",
       "    </tr>\n",
       "    <tr>\n",
       "      <th>5025</th>\n",
       "      <td>8.385693</td>\n",
       "      <td>2.549190e-04</td>\n",
       "      <td>12.378598</td>\n",
       "      <td>165.623361</td>\n",
       "      <td>5.320000e-143</td>\n",
       "      <td>2.318162</td>\n",
       "      <td>0.064976</td>\n",
       "      <td>1.724127</td>\n",
       "      <td>1.522049</td>\n",
       "      <td>3.885033</td>\n",
       "      <td>157.245585</td>\n",
       "      <td>920.865534</td>\n",
       "      <td>2.930199</td>\n",
       "      <td>0.836698</td>\n",
       "      <td>46.260294</td>\n",
       "      <td>2</td>\n",
       "      <td>15.385983</td>\n",
       "      <td>51.859020</td>\n",
       "    </tr>\n",
       "    <tr>\n",
       "      <th>8902</th>\n",
       "      <td>6.872575</td>\n",
       "      <td>1.817856e-02</td>\n",
       "      <td>6.061028</td>\n",
       "      <td>208.051552</td>\n",
       "      <td>9.120000e-50</td>\n",
       "      <td>4.057362</td>\n",
       "      <td>0.008995</td>\n",
       "      <td>1.059314</td>\n",
       "      <td>0.948427</td>\n",
       "      <td>2.122285</td>\n",
       "      <td>122.510352</td>\n",
       "      <td>354.486840</td>\n",
       "      <td>3.118696</td>\n",
       "      <td>0.302485</td>\n",
       "      <td>153.812270</td>\n",
       "      <td>4</td>\n",
       "      <td>15.874960</td>\n",
       "      <td>46.503771</td>\n",
       "    </tr>\n",
       "  </tbody>\n",
       "</table>\n",
       "</div>"
      ],
      "text/plain": [
       "             pH          Iron    Nitrate    Chloride           Lead      Zinc  \\\n",
       "12341  6.225194  2.437080e-04   6.789945  157.413401  9.170000e-131  1.548245   \n",
       "23375  9.135272  1.600000e-09   4.888014  243.463047   8.860000e-07  0.801731   \n",
       "9928   5.199836  2.430000e-05  15.716177  210.015569   3.180000e-99  1.027419   \n",
       "5025   8.385693  2.549190e-04  12.378598  165.623361  5.320000e-143  2.318162   \n",
       "8902   6.872575  1.817856e-02   6.061028  208.051552   9.120000e-50  4.057362   \n",
       "\n",
       "       Turbidity  Fluoride    Copper      Odor     Sulfate  Conductivity  \\\n",
       "12341   0.113643  0.127088  0.014945  3.943152  409.493754    476.659229   \n",
       "23375   0.074493  1.657864  0.185090  2.861244   70.912064    269.246499   \n",
       "9928    0.302372  0.564601  0.161322  3.186841  244.557098    374.192210   \n",
       "5025    0.064976  1.724127  1.522049  3.885033  157.245585    920.865534   \n",
       "8902    0.008995  1.059314  0.948427  2.122285  122.510352    354.486840   \n",
       "\n",
       "       Chlorine  Manganese  Total Dissolved Solids  Source  Water Temperature  \\\n",
       "12341  3.663149   0.379936              105.765197       6          12.214628   \n",
       "23375  3.980996   0.707126               77.621717       3          25.529476   \n",
       "9928   2.263721   0.313441              527.293723       0          23.740170   \n",
       "5025   2.930199   0.836698               46.260294       2          15.385983   \n",
       "8902   3.118696   0.302485              153.812270       4          15.874960   \n",
       "\n",
       "       Air Temperature  \n",
       "12341        83.209726  \n",
       "23375        53.165002  \n",
       "9928         85.916662  \n",
       "5025         51.859020  \n",
       "8902         46.503771  "
      ]
     },
     "execution_count": 24,
     "metadata": {},
     "output_type": "execute_result"
    }
   ],
   "source": [
    "x_train.head()"
   ]
  },
  {
   "cell_type": "code",
   "execution_count": 25,
   "metadata": {
    "colab": {
     "base_uri": "https://localhost:8080/"
    },
    "executionInfo": {
     "elapsed": 78,
     "status": "ok",
     "timestamp": 1707794136433,
     "user": {
      "displayName": "Uday krishnan ck",
      "userId": "10300820552917316551"
     },
     "user_tz": -330
    },
    "id": "BVyKYpnBW6vd",
    "outputId": "35f6c45d-1f8c-46d4-85e2-eeaebffe8276"
   },
   "outputs": [
    {
     "data": {
      "text/plain": [
       "12341    1\n",
       "23375    0\n",
       "9928     1\n",
       "5025     1\n",
       "8902     1\n",
       "Name: Target, dtype: int64"
      ]
     },
     "execution_count": 25,
     "metadata": {},
     "output_type": "execute_result"
    }
   ],
   "source": [
    "y_train.head()"
   ]
  },
  {
   "cell_type": "code",
   "execution_count": 26,
   "metadata": {
    "colab": {
     "base_uri": "https://localhost:8080/"
    },
    "executionInfo": {
     "elapsed": 77,
     "status": "ok",
     "timestamp": 1707794136433,
     "user": {
      "displayName": "Uday krishnan ck",
      "userId": "10300820552917316551"
     },
     "user_tz": -330
    },
    "id": "L8nd5YdtaNb9",
    "outputId": "5d8265b1-13aa-4b2c-9578-761da2862b95"
   },
   "outputs": [
    {
     "data": {
      "text/plain": [
       "Target\n",
       "1    8798\n",
       "0    7615\n",
       "Name: count, dtype: int64"
      ]
     },
     "execution_count": 26,
     "metadata": {},
     "output_type": "execute_result"
    }
   ],
   "source": [
    "y_train.value_counts()"
   ]
  },
  {
   "cell_type": "code",
   "execution_count": 27,
   "metadata": {
    "id": "2WUFqOJ3W6t0"
   },
   "outputs": [],
   "source": [
    "from sklearn.preprocessing import StandardScaler\n",
    "sd = StandardScaler()\n",
    "x_train = sd.fit_transform(x_train)\n",
    "x_test = sd.fit_transform(x_test)"
   ]
  },
  {
   "cell_type": "markdown",
   "metadata": {
    "id": "gweZ0JyImNdF"
   },
   "source": [
    "# **CLASSIFICATION ALGORITHMS**"
   ]
  },
  {
   "cell_type": "markdown",
   "metadata": {
    "id": "IR8XhD2bmgX5"
   },
   "source": [
    "# **1) KNearest Neighbors**   \n"
   ]
  },
  {
   "cell_type": "code",
   "execution_count": 28,
   "metadata": {
    "colab": {
     "base_uri": "https://localhost:8080/"
    },
    "executionInfo": {
     "elapsed": 1750,
     "status": "ok",
     "timestamp": 1707794138108,
     "user": {
      "displayName": "Uday krishnan ck",
      "userId": "10300820552917316551"
     },
     "user_tz": -330
    },
    "id": "240cm2NJqVaS",
    "outputId": "6201d195-ba66-4c25-9bca-f44d90db1b7b"
   },
   "outputs": [
    {
     "data": {
      "text/plain": [
       "array([1, 1, 0, ..., 1, 0, 0], dtype=int64)"
      ]
     },
     "execution_count": 28,
     "metadata": {},
     "output_type": "execute_result"
    }
   ],
   "source": [
    "from sklearn.neighbors import KNeighborsClassifier\n",
    "knn_model = KNeighborsClassifier(n_neighbors=5)\n",
    "knn_model.fit(x_train,y_train)\n",
    "\n",
    "y_pred1=knn_model.predict(x_test)\n",
    "y_pred1"
   ]
  },
  {
   "cell_type": "code",
   "execution_count": 29,
   "metadata": {
    "colab": {
     "base_uri": "https://localhost:8080/"
    },
    "executionInfo": {
     "elapsed": 130,
     "status": "ok",
     "timestamp": 1707794138109,
     "user": {
      "displayName": "Uday krishnan ck",
      "userId": "10300820552917316551"
     },
     "user_tz": -330
    },
    "id": "EZ1scit0sGfN",
    "outputId": "953d8ddd-2709-4dbb-8226-8df9e270868a"
   },
   "outputs": [
    {
     "name": "stdout",
     "output_type": "stream",
     "text": [
      "[[2801  410]\n",
      " [1250 2574]]\n"
     ]
    }
   ],
   "source": [
    "#confusion matrix\n",
    "from sklearn.metrics import confusion_matrix,ConfusionMatrixDisplay\n",
    "result = confusion_matrix(y_test,y_pred1)\n",
    "print(result)\n",
    "labels=[0,1]\n",
    "cmd = ConfusionMatrixDisplay(result,display_labels=labels)"
   ]
  },
  {
   "cell_type": "code",
   "execution_count": 30,
   "metadata": {
    "colab": {
     "base_uri": "https://localhost:8080/",
     "height": 466
    },
    "executionInfo": {
     "elapsed": 126,
     "status": "ok",
     "timestamp": 1707794138109,
     "user": {
      "displayName": "Uday krishnan ck",
      "userId": "10300820552917316551"
     },
     "user_tz": -330
    },
    "id": "f9PVGitqsTNA",
    "outputId": "cb749122-004d-4761-e31a-75b36dd36082"
   },
   "outputs": [
    {
     "data": {
      "text/plain": [
       "<sklearn.metrics._plot.confusion_matrix.ConfusionMatrixDisplay at 0x2008ab5f990>"
      ]
     },
     "execution_count": 30,
     "metadata": {},
     "output_type": "execute_result"
    },
    {
     "data": {
      "image/png": "[encoded data removed]",
      "text/plain": [
       "<Figure size 640x480 with 2 Axes>"
      ]
     },
     "metadata": {},
     "output_type": "display_data"
    }
   ],
   "source": [
    "cmd.plot()"
   ]
  },
  {
   "cell_type": "markdown",
   "metadata": {
    "id": "EvIcKmGNVHkz"
   },
   "source": [
    "From KNearest Neighbors ConfusionMatrix we observe that:  \n",
    "\n",
    "* 2758 samples are correctly classified under not \"pure\" category & 453 are misclassified\n",
    "* 2570 samples are correctly classified under “pure” category & 1254 are misclassified"
   ]
  },
  {
   "cell_type": "code",
   "execution_count": 31,
   "metadata": {
    "colab": {
     "base_uri": "https://localhost:8080/"
    },
    "executionInfo": {
     "elapsed": 104,
     "status": "ok",
     "timestamp": 1707794138109,
     "user": {
      "displayName": "Uday krishnan ck",
      "userId": "10300820552917316551"
     },
     "user_tz": -330
    },
    "id": "fgSh3Zuksgrx",
    "outputId": "977a7d26-0848-4f40-a921-0daff742b617"
   },
   "outputs": [
    {
     "name": "stdout",
     "output_type": "stream",
     "text": [
      "Accuracy:  76.40369580668089 \n",
      "\n",
      "              precision    recall  f1-score   support\n",
      "\n",
      "           0       0.69      0.87      0.77      3211\n",
      "           1       0.86      0.67      0.76      3824\n",
      "\n",
      "    accuracy                           0.76      7035\n",
      "   macro avg       0.78      0.77      0.76      7035\n",
      "weighted avg       0.78      0.76      0.76      7035\n",
      "\n"
     ]
    }
   ],
   "source": [
    "# Accuracy score and classification report\n",
    "from sklearn.metrics import accuracy_score,classification_report\n",
    "\n",
    "a=accuracy_score(y_test,y_pred1)\n",
    "print('Accuracy: ',a*100,'\\n')\n",
    "print(classification_report(y_test,y_pred1))"
   ]
  },
  {
   "cell_type": "code",
   "execution_count": 32,
   "metadata": {
    "colab": {
     "base_uri": "https://localhost:8080/"
    },
    "executionInfo": {
     "elapsed": 1458,
     "status": "ok",
     "timestamp": 1707794139512,
     "user": {
      "displayName": "Uday krishnan ck",
      "userId": "10300820552917316551"
     },
     "user_tz": -330
    },
    "id": "RkrdAMGntSW6",
    "outputId": "a0d6d7f3-6db8-441b-b808-65e4e9b38741"
   },
   "outputs": [
    {
     "data": {
      "text/plain": [
       "0.8236154267958326"
      ]
     },
     "execution_count": 32,
     "metadata": {},
     "output_type": "execute_result"
    }
   ],
   "source": [
    "training_score = knn_model.score(x_train,y_train)\n",
    "training_score"
   ]
  },
  {
   "cell_type": "code",
   "execution_count": 33,
   "metadata": {
    "colab": {
     "base_uri": "https://localhost:8080/"
    },
    "executionInfo": {
     "elapsed": 1237,
     "status": "ok",
     "timestamp": 1707794140742,
     "user": {
      "displayName": "Uday krishnan ck",
      "userId": "10300820552917316551"
     },
     "user_tz": -330
    },
    "id": "YB5fZgMUteMS",
    "outputId": "afa71561-a020-4821-afb1-785b16a8e9b0"
   },
   "outputs": [
    {
     "data": {
      "text/plain": [
       "0.7640369580668088"
      ]
     },
     "execution_count": 33,
     "metadata": {},
     "output_type": "execute_result"
    }
   ],
   "source": [
    "testing_score =knn_model.score(x_test,y_test)\n",
    "testing_score"
   ]
  },
  {
   "cell_type": "markdown",
   "metadata": {
    "id": "HHJOlzaioRKt"
   },
   "source": [
    "## **2) NAIVE BAYES : BernoulliNB**\n",
    "\n",
    "*   Bernoulli Naive Bayes algorithm is a supervised learning algorithm, which is based on Bayes theorem and used for solving classification problems.\n",
    "*   This is used when features are binary. So instead of using the frequency of the word, if you have discrete features in 1s and 0s that represent the presence or absence of a feature. In that case, the features will be binary and will use Bernoulli Naive Bayes."
   ]
  },
  {
   "cell_type": "code",
   "execution_count": 34,
   "metadata": {
    "colab": {
     "base_uri": "https://localhost:8080/"
    },
    "executionInfo": {
     "elapsed": 414,
     "status": "ok",
     "timestamp": 1707794141148,
     "user": {
      "displayName": "Uday krishnan ck",
      "userId": "10300820552917316551"
     },
     "user_tz": -330
    },
    "id": "nYGJFRZ0v_nn",
    "outputId": "01044e4b-33ca-420c-b559-43b6cf7cc1fb"
   },
   "outputs": [
    {
     "data": {
      "text/plain": [
       "array([1, 1, 0, ..., 1, 1, 0], dtype=int64)"
      ]
     },
     "execution_count": 34,
     "metadata": {},
     "output_type": "execute_result"
    }
   ],
   "source": [
    "from sklearn.naive_bayes import BernoulliNB\n",
    "bayes_model1 = BernoulliNB()\n",
    "bayes_model1.fit(x_train,y_train)\n",
    "y_pred3 = bayes_model1.predict(x_test)\n",
    "y_pred3"
   ]
  },
  {
   "cell_type": "code",
   "execution_count": 35,
   "metadata": {
    "colab": {
     "base_uri": "https://localhost:8080/"
    },
    "executionInfo": {
     "elapsed": 16,
     "status": "ok",
     "timestamp": 1707794141150,
     "user": {
      "displayName": "Uday krishnan ck",
      "userId": "10300820552917316551"
     },
     "user_tz": -330
    },
    "id": "gNHlI_hUwASr",
    "outputId": "13e1bda3-8306-4605-9693-82482e09a8f2"
   },
   "outputs": [
    {
     "name": "stdout",
     "output_type": "stream",
     "text": [
      "[[2176 1035]\n",
      " [1088 2736]]\n"
     ]
    }
   ],
   "source": [
    "#confusion matrix\n",
    "from sklearn.metrics import confusion_matrix,ConfusionMatrixDisplay\n",
    "result = confusion_matrix(y_test,y_pred3)\n",
    "print(result)\n",
    "labels=[0,1]\n",
    "cmd = ConfusionMatrixDisplay(result,display_labels=labels)"
   ]
  },
  {
   "cell_type": "code",
   "execution_count": 36,
   "metadata": {
    "colab": {
     "base_uri": "https://localhost:8080/",
     "height": 466
    },
    "executionInfo": {
     "elapsed": 782,
     "status": "ok",
     "timestamp": 1707794141918,
     "user": {
      "displayName": "Uday krishnan ck",
      "userId": "10300820552917316551"
     },
     "user_tz": -330
    },
    "id": "6kS6IyzkwNq_",
    "outputId": "fcf3a051-44e7-4a18-c269-5fe76ca14f2a"
   },
   "outputs": [
    {
     "data": {
      "text/plain": [
       "<sklearn.metrics._plot.confusion_matrix.ConfusionMatrixDisplay at 0x200969cba90>"
      ]
     },
     "execution_count": 36,
     "metadata": {},
     "output_type": "execute_result"
    },
    {
     "data": {
      "image/png": "[encoded data removed]",
      "text/plain": [
       "<Figure size 640x480 with 2 Axes>"
      ]
     },
     "metadata": {},
     "output_type": "display_data"
    }
   ],
   "source": [
    "cmd.plot()"
   ]
  },
  {
   "cell_type": "markdown",
   "metadata": {
    "id": "x1yNHA8OWe73"
   },
   "source": [
    "From Naive Bayes ConfusionMatrix we observe that:\n",
    "* 2442 samples are correctly classified under not “pure” category & 769 are misclassified\n",
    "* 2264 samples are correctly classified under “pure” category & 1560 are misclassified"
   ]
  },
  {
   "cell_type": "code",
   "execution_count": 37,
   "metadata": {
    "colab": {
     "base_uri": "https://localhost:8080/"
    },
    "executionInfo": {
     "elapsed": 48,
     "status": "ok",
     "timestamp": 1707794141919,
     "user": {
      "displayName": "Uday krishnan ck",
      "userId": "10300820552917316551"
     },
     "user_tz": -330
    },
    "id": "chvNs2SvwQZv",
    "outputId": "85a14065-61c8-43af-e100-bb79a3d004a8"
   },
   "outputs": [
    {
     "name": "stdout",
     "output_type": "stream",
     "text": [
      "Accuracy:  69.82231698649609 \n",
      "\n",
      "              precision    recall  f1-score   support\n",
      "\n",
      "           0       0.67      0.68      0.67      3211\n",
      "           1       0.73      0.72      0.72      3824\n",
      "\n",
      "    accuracy                           0.70      7035\n",
      "   macro avg       0.70      0.70      0.70      7035\n",
      "weighted avg       0.70      0.70      0.70      7035\n",
      "\n"
     ]
    }
   ],
   "source": [
    "#Accuracy score and clasification report\n",
    "from sklearn.metrics import accuracy_score,classification_report\n",
    "\n",
    "b=accuracy_score(y_test,y_pred3)\n",
    "print('Accuracy: ',b*100,'\\n')\n",
    "print(classification_report(y_test,y_pred3))"
   ]
  },
  {
   "cell_type": "code",
   "execution_count": 38,
   "metadata": {
    "colab": {
     "base_uri": "https://localhost:8080/"
    },
    "executionInfo": {
     "elapsed": 44,
     "status": "ok",
     "timestamp": 1707794141919,
     "user": {
      "displayName": "Uday krishnan ck",
      "userId": "10300820552917316551"
     },
     "user_tz": -330
    },
    "id": "ZezSBuvCwViE",
    "outputId": "b12490a9-2cbd-46b7-d432-5e06e845c10c"
   },
   "outputs": [
    {
     "data": {
      "text/plain": [
       "0.7001766892097727"
      ]
     },
     "execution_count": 38,
     "metadata": {},
     "output_type": "execute_result"
    }
   ],
   "source": [
    "training_score = bayes_model1.score(x_train,y_train)\n",
    "training_score"
   ]
  },
  {
   "cell_type": "code",
   "execution_count": 39,
   "metadata": {
    "colab": {
     "base_uri": "https://localhost:8080/"
    },
    "executionInfo": {
     "elapsed": 42,
     "status": "ok",
     "timestamp": 1707794141919,
     "user": {
      "displayName": "Uday krishnan ck",
      "userId": "10300820552917316551"
     },
     "user_tz": -330
    },
    "id": "RW6NoramwWLf",
    "outputId": "6b8ccb22-73a7-4384-abaf-760611dfd4f9"
   },
   "outputs": [
    {
     "data": {
      "text/plain": [
       "0.7001766892097727"
      ]
     },
     "execution_count": 39,
     "metadata": {},
     "output_type": "execute_result"
    }
   ],
   "source": [
    "testing_score = bayes_model1.score(x_train,y_train)\n",
    "testing_score"
   ]
  },
  {
   "cell_type": "markdown",
   "metadata": {
    "id": "fIh3vm6io_uP"
   },
   "source": [
    "## **3) Support Vector Machine**\n",
    "Here the Machine Learning models learn from the past input data and predict the output.support\n",
    "vector machines are basically supervised learning models used for classification and regression analysis."
   ]
  },
  {
   "cell_type": "code",
   "execution_count": 40,
   "metadata": {
    "colab": {
     "base_uri": "https://localhost:8080/"
    },
    "executionInfo": {
     "elapsed": 32491,
     "status": "ok",
     "timestamp": 1707794174370,
     "user": {
      "displayName": "Uday krishnan ck",
      "userId": "10300820552917316551"
     },
     "user_tz": -330
    },
    "id": "jHmouuIaxP82",
    "outputId": "84ff077f-33b5-4d80-8195-ab2aed9f965d"
   },
   "outputs": [
    {
     "data": {
      "text/plain": [
       "array([1, 1, 0, ..., 1, 0, 0], dtype=int64)"
      ]
     },
     "execution_count": 40,
     "metadata": {},
     "output_type": "execute_result"
    }
   ],
   "source": [
    "from sklearn.svm import SVC\n",
    "sv_model=SVC()\n",
    "sv_model.fit(x_train,y_train)\n",
    "y_pred4=sv_model.predict(x_test)\n",
    "y_pred4"
   ]
  },
  {
   "cell_type": "code",
   "execution_count": 41,
   "metadata": {
    "colab": {
     "base_uri": "https://localhost:8080/"
    },
    "executionInfo": {
     "elapsed": 12,
     "status": "ok",
     "timestamp": 1707794174370,
     "user": {
      "displayName": "Uday krishnan ck",
      "userId": "10300820552917316551"
     },
     "user_tz": -330
    },
    "id": "gDpq8sxpC0-S",
    "outputId": "7a3d1f51-37b2-4315-d58d-455e8f8af0fd"
   },
   "outputs": [
    {
     "name": "stdout",
     "output_type": "stream",
     "text": [
      "[[2719  492]\n",
      " [ 539 3285]]\n"
     ]
    }
   ],
   "source": [
    "#confusion matrix\n",
    "from sklearn.metrics import confusion_matrix,ConfusionMatrixDisplay\n",
    "result = confusion_matrix(y_test,y_pred4)\n",
    "print(result)\n",
    "labels=[0,1]\n",
    "cmd = ConfusionMatrixDisplay(result,display_labels=labels)"
   ]
  },
  {
   "cell_type": "code",
   "execution_count": 42,
   "metadata": {
    "colab": {
     "base_uri": "https://localhost:8080/",
     "height": 466
    },
    "executionInfo": {
     "elapsed": 646,
     "status": "ok",
     "timestamp": 1707794175007,
     "user": {
      "displayName": "Uday krishnan ck",
      "userId": "10300820552917316551"
     },
     "user_tz": -330
    },
    "id": "ROSZT0KEDAfN",
    "outputId": "992c53d3-7f47-4100-cd7c-6f889799f124"
   },
   "outputs": [
    {
     "data": {
      "text/plain": [
       "<sklearn.metrics._plot.confusion_matrix.ConfusionMatrixDisplay at 0x20097169fd0>"
      ]
     },
     "execution_count": 42,
     "metadata": {},
     "output_type": "execute_result"
    },
    {
     "data": {
      "image/png": "[encoded data removed]",
      "text/plain": [
       "<Figure size 640x480 with 2 Axes>"
      ]
     },
     "metadata": {},
     "output_type": "display_data"
    }
   ],
   "source": [
    "cmd.plot()"
   ]
  },
  {
   "cell_type": "markdown",
   "metadata": {
    "id": "tEoOc3GgV6WP"
   },
   "source": [
    "From Support Vector Machine ConfusionMatrix we observe that:  \n",
    "\n",
    "* 2654 samples are correctly classified under not “pure” category & 557 are misclassified   \n",
    "\n",
    "* 3187 samples are correctly classified under “pure” category & 637 are misclassified"
   ]
  },
  {
   "cell_type": "code",
   "execution_count": 43,
   "metadata": {
    "colab": {
     "base_uri": "https://localhost:8080/"
    },
    "executionInfo": {
     "elapsed": 21,
     "status": "ok",
     "timestamp": 1707794175008,
     "user": {
      "displayName": "Uday krishnan ck",
      "userId": "10300820552917316551"
     },
     "user_tz": -330
    },
    "id": "rcSho9GmDDkH",
    "outputId": "490d3d5c-9e6b-460d-96ab-2df27f732ebc"
   },
   "outputs": [
    {
     "name": "stdout",
     "output_type": "stream",
     "text": [
      "Accuracy:  85.34470504619759 \n",
      "\n",
      "              precision    recall  f1-score   support\n",
      "\n",
      "           0       0.83      0.85      0.84      3211\n",
      "           1       0.87      0.86      0.86      3824\n",
      "\n",
      "    accuracy                           0.85      7035\n",
      "   macro avg       0.85      0.85      0.85      7035\n",
      "weighted avg       0.85      0.85      0.85      7035\n",
      "\n"
     ]
    }
   ],
   "source": [
    "#Accuracy score and classification report\n",
    "from sklearn.metrics import accuracy_score,classification_report\n",
    "\n",
    "c=accuracy_score(y_test,y_pred4)\n",
    "print('Accuracy: ',c*100,'\\n')\n",
    "print(classification_report(y_test,y_pred4))"
   ]
  },
  {
   "cell_type": "code",
   "execution_count": 44,
   "metadata": {
    "colab": {
     "base_uri": "https://localhost:8080/"
    },
    "executionInfo": {
     "elapsed": 8233,
     "status": "ok",
     "timestamp": 1707794183221,
     "user": {
      "displayName": "Uday krishnan ck",
      "userId": "10300820552917316551"
     },
     "user_tz": -330
    },
    "id": "PeQNxLGVDPGZ",
    "outputId": "0b085a6f-9ace-4b60-8224-2c1671d818e4"
   },
   "outputs": [
    {
     "data": {
      "text/plain": [
       "0.8683970023761652"
      ]
     },
     "execution_count": 44,
     "metadata": {},
     "output_type": "execute_result"
    }
   ],
   "source": [
    "training_score = sv_model.score(x_train,y_train)\n",
    "training_score"
   ]
  },
  {
   "cell_type": "code",
   "execution_count": 45,
   "metadata": {
    "colab": {
     "base_uri": "https://localhost:8080/"
    },
    "executionInfo": {
     "elapsed": 7937,
     "status": "ok",
     "timestamp": 1707794191145,
     "user": {
      "displayName": "Uday krishnan ck",
      "userId": "10300820552917316551"
     },
     "user_tz": -330
    },
    "id": "mkEEF2-XDVJE",
    "outputId": "19d4d4a8-4fc6-483d-83f0-32528be99a2a"
   },
   "outputs": [
    {
     "data": {
      "text/plain": [
       "0.8683970023761652"
      ]
     },
     "execution_count": 45,
     "metadata": {},
     "output_type": "execute_result"
    }
   ],
   "source": [
    "testing_score = sv_model.score(x_train,y_train)\n",
    "testing_score"
   ]
  },
  {
   "cell_type": "markdown",
   "metadata": {
    "id": "CwAQzPhFpac_"
   },
   "source": [
    "## **4) DecisionTreeClassifier**   \n",
    "\n",
    "Decision Trees(DTs) are a non-parametric supervised learning method used for classification and\n",
    "regression.the goal is to create the model that predict the value of a target variable by learning\n",
    "simple decision rules inferred from the data features."
   ]
  },
  {
   "cell_type": "code",
   "execution_count": 46,
   "metadata": {
    "colab": {
     "base_uri": "https://localhost:8080/"
    },
    "executionInfo": {
     "elapsed": 9,
     "status": "ok",
     "timestamp": 1707794191145,
     "user": {
      "displayName": "Uday krishnan ck",
      "userId": "10300820552917316551"
     },
     "user_tz": -330
    },
    "id": "Se5DVsewELvX",
    "outputId": "6d13c99b-eb33-4ee5-b639-1ee920dec67c"
   },
   "outputs": [
    {
     "data": {
      "text/plain": [
       "array([1, 1, 0, ..., 1, 0, 0], dtype=int64)"
      ]
     },
     "execution_count": 46,
     "metadata": {},
     "output_type": "execute_result"
    }
   ],
   "source": [
    "from sklearn.tree import DecisionTreeClassifier\n",
    "tree_model=DecisionTreeClassifier(max_depth = 5,criterion = 'entropy')\n",
    "tree_model.fit(x_train,y_train)\n",
    "y_pred5 = tree_model.predict(x_test)\n",
    "y_pred5"
   ]
  },
  {
   "cell_type": "code",
   "execution_count": 47,
   "metadata": {
    "colab": {
     "base_uri": "https://localhost:8080/"
    },
    "executionInfo": {
     "elapsed": 6,
     "status": "ok",
     "timestamp": 1707794191145,
     "user": {
      "displayName": "Uday krishnan ck",
      "userId": "10300820552917316551"
     },
     "user_tz": -330
    },
    "id": "gHc5fvfNEXOR",
    "outputId": "009bce24-1ef2-4b17-9b37-733504de0e24"
   },
   "outputs": [
    {
     "name": "stdout",
     "output_type": "stream",
     "text": [
      "[[2777  434]\n",
      " [ 936 2888]]\n"
     ]
    }
   ],
   "source": [
    "#confusion matrixfrom sklearn.metrics import confusion_matrix,ConfusionMatrixDisplay\n",
    "result = confusion_matrix(y_test,y_pred5)\n",
    "print(result)\n",
    "labels=[0,1]\n",
    "cmd = ConfusionMatrixDisplay(result,display_labels=labels)"
   ]
  },
  {
   "cell_type": "code",
   "execution_count": 48,
   "metadata": {
    "colab": {
     "base_uri": "https://localhost:8080/",
     "height": 466
    },
    "executionInfo": {
     "elapsed": 727,
     "status": "ok",
     "timestamp": 1707794191868,
     "user": {
      "displayName": "Uday krishnan ck",
      "userId": "10300820552917316551"
     },
     "user_tz": -330
    },
    "id": "itNbIaPrEmVt",
    "outputId": "70d68de1-0fec-4b41-a747-c7e6d0aac62a"
   },
   "outputs": [
    {
     "data": {
      "text/plain": [
       "<sklearn.metrics._plot.confusion_matrix.ConfusionMatrixDisplay at 0x200970f21d0>"
      ]
     },
     "execution_count": 48,
     "metadata": {},
     "output_type": "execute_result"
    },
    {
     "data": {
      "image/png": "[encoded data removed]",
      "text/plain": [
       "<Figure size 640x480 with 2 Axes>"
      ]
     },
     "metadata": {},
     "output_type": "display_data"
    }
   ],
   "source": [
    "cmd.plot()"
   ]
  },
  {
   "cell_type": "markdown",
   "metadata": {
    "id": "6fMnJfjsVYEC"
   },
   "source": [
    "From DecisionTree ConfusionMatrix we observe that:\n",
    "* 2777 samples are correctly classified under not “pure” category & 434 are misclassified\n",
    "* 2888 samples are correctly classified under “pure” category & 936 are misclassified"
   ]
  },
  {
   "cell_type": "code",
   "execution_count": 49,
   "metadata": {
    "colab": {
     "base_uri": "https://localhost:8080/"
    },
    "executionInfo": {
     "elapsed": 45,
     "status": "ok",
     "timestamp": 1707794191869,
     "user": {
      "displayName": "Uday krishnan ck",
      "userId": "10300820552917316551"
     },
     "user_tz": -330
    },
    "id": "Whho5TSsEp8R",
    "outputId": "fe34b500-d8b4-4af3-be16-9dde36c2cf65"
   },
   "outputs": [
    {
     "name": "stdout",
     "output_type": "stream",
     "text": [
      "Accuracy:  80.52594171997157 \n",
      "\n",
      "              precision    recall  f1-score   support\n",
      "\n",
      "           0       0.75      0.86      0.80      3211\n",
      "           1       0.87      0.76      0.81      3824\n",
      "\n",
      "    accuracy                           0.81      7035\n",
      "   macro avg       0.81      0.81      0.81      7035\n",
      "weighted avg       0.81      0.81      0.81      7035\n",
      "\n"
     ]
    }
   ],
   "source": [
    "#Accuracy score and classification report\n",
    "from sklearn.metrics import accuracy_score,classification_report\n",
    "\n",
    "d=accuracy_score(y_test,y_pred5)\n",
    "print('Accuracy: ',d*100,'\\n')\n",
    "print(classification_report(y_test,y_pred5))\n"
   ]
  },
  {
   "cell_type": "code",
   "execution_count": 50,
   "metadata": {
    "colab": {
     "base_uri": "https://localhost:8080/"
    },
    "executionInfo": {
     "elapsed": 43,
     "status": "ok",
     "timestamp": 1707794191869,
     "user": {
      "displayName": "Uday krishnan ck",
      "userId": "10300820552917316551"
     },
     "user_tz": -330
    },
    "id": "VDjpFD8CE8Wg",
    "outputId": "35e681f9-f3fb-4e2d-d59c-b246a261ca9d"
   },
   "outputs": [
    {
     "data": {
      "text/plain": [
       "0.8260525193444221"
      ]
     },
     "execution_count": 50,
     "metadata": {},
     "output_type": "execute_result"
    }
   ],
   "source": [
    "training_score = tree_model.score(x_train,y_train)\n",
    "training_score"
   ]
  },
  {
   "cell_type": "code",
   "execution_count": 51,
   "metadata": {
    "colab": {
     "base_uri": "https://localhost:8080/"
    },
    "executionInfo": {
     "elapsed": 40,
     "status": "ok",
     "timestamp": 1707794191869,
     "user": {
      "displayName": "Uday krishnan ck",
      "userId": "10300820552917316551"
     },
     "user_tz": -330
    },
    "id": "jP_gb8ZCE9A9",
    "outputId": "86c912ac-8f8b-477c-e961-31e416284e2e"
   },
   "outputs": [
    {
     "data": {
      "text/plain": [
       "0.8260525193444221"
      ]
     },
     "execution_count": 51,
     "metadata": {},
     "output_type": "execute_result"
    }
   ],
   "source": [
    "testing_score = tree_model.score(x_train,y_train)\n",
    "testing_score"
   ]
  },
  {
   "cell_type": "markdown",
   "metadata": {
    "id": "PfI7Q88Vpyg1"
   },
   "source": [
    "## **5) RandomForest Classifier**   \n",
    "\n",
    "A Random forest is a machine learning technique that is used to solve regression and classification\n",
    "problems.it utilizes ensemble learning,which is a technique that combines many classifiers to provide\n",
    "solution to complex problems.easy to use machine learning algorithm that produce,even without\n",
    "hyper-parameter tuning,a great result most of the time."
   ]
  },
  {
   "cell_type": "code",
   "execution_count": 52,
   "metadata": {
    "colab": {
     "base_uri": "https://localhost:8080/"
    },
    "executionInfo": {
     "elapsed": 4239,
     "status": "ok",
     "timestamp": 1707794196070,
     "user": {
      "displayName": "Uday krishnan ck",
      "userId": "10300820552917316551"
     },
     "user_tz": -330
    },
    "id": "etpqhGrMFsOo",
    "outputId": "ed6ab491-d916-4f15-8fea-27f3b57521f2"
   },
   "outputs": [
    {
     "data": {
      "text/plain": [
       "array([1, 1, 0, ..., 1, 0, 0], dtype=int64)"
      ]
     },
     "execution_count": 52,
     "metadata": {},
     "output_type": "execute_result"
    }
   ],
   "source": [
    "from sklearn.ensemble import RandomForestClassifier\n",
    "forest_model = RandomForestClassifier(n_estimators=100,criterion='gini',max_depth=5,max_features=5)\n",
    "forest_model.fit(x_train,y_train)\n",
    "y_pred6 = forest_model.predict(x_test)\n",
    "y_pred6\n"
   ]
  },
  {
   "cell_type": "code",
   "execution_count": 53,
   "metadata": {
    "colab": {
     "base_uri": "https://localhost:8080/"
    },
    "executionInfo": {
     "elapsed": 7,
     "status": "ok",
     "timestamp": 1707794196070,
     "user": {
      "displayName": "Uday krishnan ck",
      "userId": "10300820552917316551"
     },
     "user_tz": -330
    },
    "id": "QjhBcKF6F4ay",
    "outputId": "29bac93b-bedc-4cd2-8188-bd60c7877bb7"
   },
   "outputs": [
    {
     "name": "stdout",
     "output_type": "stream",
     "text": [
      "[[2681  530]\n",
      " [ 559 3265]]\n"
     ]
    }
   ],
   "source": [
    "#confusion matrix\n",
    "from sklearn.metrics import confusion_matrix,ConfusionMatrixDisplay\n",
    "result = confusion_matrix(y_test,y_pred6)\n",
    "print(result)\n",
    "labels=[0,1]\n",
    "cmd = ConfusionMatrixDisplay(result,display_labels=labels)"
   ]
  },
  {
   "cell_type": "code",
   "execution_count": 54,
   "metadata": {
    "colab": {
     "base_uri": "https://localhost:8080/",
     "height": 466
    },
    "executionInfo": {
     "elapsed": 756,
     "status": "ok",
     "timestamp": 1707794196822,
     "user": {
      "displayName": "Uday krishnan ck",
      "userId": "10300820552917316551"
     },
     "user_tz": -330
    },
    "id": "t1kfkh81GAOA",
    "outputId": "1847cd67-4c98-4795-8fa0-d5a3bb5fc058"
   },
   "outputs": [
    {
     "data": {
      "text/plain": [
       "<sklearn.metrics._plot.confusion_matrix.ConfusionMatrixDisplay at 0x2009bc3e0d0>"
      ]
     },
     "execution_count": 54,
     "metadata": {},
     "output_type": "execute_result"
    },
    {
     "data": {
      "image/png": "[encoded data removed]",
      "text/plain": [
       "<Figure size 640x480 with 2 Axes>"
      ]
     },
     "metadata": {},
     "output_type": "display_data"
    }
   ],
   "source": [
    "cmd.plot()"
   ]
  },
  {
   "cell_type": "markdown",
   "metadata": {
    "id": "zGFm6NOmVtW2"
   },
   "source": [
    "From RandomForest ConfusionMatrix we observe that:\n",
    "* 1108 samples are correctly classified under not “pure” category & 2103 are misclassified\n",
    "* 3517 samples are correctly classified under “pure” category & 307 are misclassified"
   ]
  },
  {
   "cell_type": "code",
   "execution_count": 55,
   "metadata": {
    "colab": {
     "base_uri": "https://localhost:8080/"
    },
    "executionInfo": {
     "elapsed": 44,
     "status": "ok",
     "timestamp": 1707794196823,
     "user": {
      "displayName": "Uday krishnan ck",
      "userId": "10300820552917316551"
     },
     "user_tz": -330
    },
    "id": "yI2HAUbfGDMt",
    "outputId": "4841c8ef-801a-4695-8b21-e9a2a598f97a"
   },
   "outputs": [
    {
     "name": "stdout",
     "output_type": "stream",
     "text": [
      "Accuracy:  84.52025586353945 \n",
      "\n",
      "              precision    recall  f1-score   support\n",
      "\n",
      "           0       0.83      0.83      0.83      3211\n",
      "           1       0.86      0.85      0.86      3824\n",
      "\n",
      "    accuracy                           0.85      7035\n",
      "   macro avg       0.84      0.84      0.84      7035\n",
      "weighted avg       0.85      0.85      0.85      7035\n",
      "\n"
     ]
    }
   ],
   "source": [
    "#Accuracy score and classification report\n",
    "from sklearn.metrics import accuracy_score,classification_report\n",
    "\n",
    "e=accuracy_score(y_test,y_pred6)\n",
    "print('Accuracy: ',e*100,'\\n')\n",
    "print(classification_report(y_test,y_pred6))\n"
   ]
  },
  {
   "cell_type": "code",
   "execution_count": 56,
   "metadata": {
    "colab": {
     "base_uri": "https://localhost:8080/"
    },
    "executionInfo": {
     "elapsed": 42,
     "status": "ok",
     "timestamp": 1707794196823,
     "user": {
      "displayName": "Uday krishnan ck",
      "userId": "10300820552917316551"
     },
     "user_tz": -330
    },
    "id": "x7RahmNIGLQv",
    "outputId": "86961251-dc3f-49f8-90a6-37c0b55221a8"
   },
   "outputs": [
    {
     "data": {
      "text/plain": [
       "0.852616828124048"
      ]
     },
     "execution_count": 56,
     "metadata": {},
     "output_type": "execute_result"
    }
   ],
   "source": [
    "training_score =forest_model.score(x_train,y_train)\n",
    "training_score"
   ]
  },
  {
   "cell_type": "code",
   "execution_count": 57,
   "metadata": {
    "colab": {
     "base_uri": "https://localhost:8080/"
    },
    "executionInfo": {
     "elapsed": 568,
     "status": "ok",
     "timestamp": 1707794197351,
     "user": {
      "displayName": "Uday krishnan ck",
      "userId": "10300820552917316551"
     },
     "user_tz": -330
    },
    "id": "Qq3ayxbTGOLb",
    "outputId": "243b8369-2ca7-4328-d97f-3efe37a73772"
   },
   "outputs": [
    {
     "data": {
      "text/plain": [
       "0.852616828124048"
      ]
     },
     "execution_count": 57,
     "metadata": {},
     "output_type": "execute_result"
    }
   ],
   "source": [
    "testing_score = forest_model.score(x_train,y_train)\n",
    "testing_score"
   ]
  },
  {
   "cell_type": "markdown",
   "metadata": {
    "id": "FL75I8WkqOjU"
   },
   "source": [
    "## **6) AdaBoostClassifier**\n",
    "An AdaBoost classifier is a meta-estimator that begins by fitting a classifier on the original dataset\n",
    "and then fits additional copies of the classifier on the same dataset but where the weights of\n",
    "incorrectly classified instances are adjusted such that subsequent classifiers focus more on difficult cases."
   ]
  },
  {
   "cell_type": "code",
   "execution_count": 58,
   "metadata": {
    "colab": {
     "base_uri": "https://localhost:8080/"
    },
    "executionInfo": {
     "elapsed": 374,
     "status": "ok",
     "timestamp": 1707794197717,
     "user": {
      "displayName": "Uday krishnan ck",
      "userId": "10300820552917316551"
     },
     "user_tz": -330
    },
    "id": "-k9CQN4VGpkm",
    "outputId": "e50c0713-dd35-4e68-8426-9119a85ae128"
   },
   "outputs": [
    {
     "data": {
      "text/plain": [
       "array([1, 1, 0, ..., 1, 0, 0], dtype=int64)"
      ]
     },
     "execution_count": 58,
     "metadata": {},
     "output_type": "execute_result"
    }
   ],
   "source": [
    "from sklearn.ensemble import AdaBoostClassifier\n",
    "adb_model = AdaBoostClassifier(n_estimators=10,learning_rate=1.0)\n",
    "adb_model.fit(x_train,y_train)\n",
    "y_pred7=adb_model.predict(x_test)\n",
    "y_pred7"
   ]
  },
  {
   "cell_type": "code",
   "execution_count": 59,
   "metadata": {
    "colab": {
     "base_uri": "https://localhost:8080/"
    },
    "executionInfo": {
     "elapsed": 10,
     "status": "ok",
     "timestamp": 1707794197717,
     "user": {
      "displayName": "Uday krishnan ck",
      "userId": "10300820552917316551"
     },
     "user_tz": -330
    },
    "id": "9vXYsmgmGvrB",
    "outputId": "d054e5bc-7953-42c9-ef1d-efac2bab4a7f"
   },
   "outputs": [
    {
     "name": "stdout",
     "output_type": "stream",
     "text": [
      "[[2826  385]\n",
      " [1177 2647]]\n"
     ]
    }
   ],
   "source": [
    "#confusion matrix\n",
    "from sklearn.metrics import confusion_matrix,ConfusionMatrixDisplay\n",
    "result=confusion_matrix(y_test,y_pred7)\n",
    "print(result)\n",
    "labels=[0,1]\n",
    "cmd=ConfusionMatrixDisplay(result,display_labels=labels)"
   ]
  },
  {
   "cell_type": "code",
   "execution_count": 60,
   "metadata": {
    "colab": {
     "base_uri": "https://localhost:8080/",
     "height": 466
    },
    "executionInfo": {
     "elapsed": 747,
     "status": "ok",
     "timestamp": 1707794198456,
     "user": {
      "displayName": "Uday krishnan ck",
      "userId": "10300820552917316551"
     },
     "user_tz": -330
    },
    "id": "0a7BhKGrG3Mx",
    "outputId": "f2a0b584-5ea9-4588-f79d-98ce22277fbb"
   },
   "outputs": [
    {
     "data": {
      "text/plain": [
       "<sklearn.metrics._plot.confusion_matrix.ConfusionMatrixDisplay at 0x2009aafe750>"
      ]
     },
     "execution_count": 60,
     "metadata": {},
     "output_type": "execute_result"
    },
    {
     "data": {
      "image/png": "[encoded data removed]",
      "text/plain": [
       "<Figure size 640x480 with 2 Axes>"
      ]
     },
     "metadata": {},
     "output_type": "display_data"
    }
   ],
   "source": [
    "cmd.plot()"
   ]
  },
  {
   "cell_type": "markdown",
   "metadata": {
    "id": "yROshpH7W00l"
   },
   "source": [
    "From AdaBoost ConfusionMatrix we observe that:\n",
    "* 2684 samples are correctly classified under not “pure” category & 527 are misclassified\n",
    "* 3241 samples are correctly classified under “pure” category & 583 are misclassified"
   ]
  },
  {
   "cell_type": "code",
   "execution_count": 61,
   "metadata": {
    "colab": {
     "base_uri": "https://localhost:8080/"
    },
    "executionInfo": {
     "elapsed": 54,
     "status": "ok",
     "timestamp": 1707794198457,
     "user": {
      "displayName": "Uday krishnan ck",
      "userId": "10300820552917316551"
     },
     "user_tz": -330
    },
    "id": "vE1NznL0Gy1f",
    "outputId": "ecbf4ce3-8007-403e-8735-d7f7ab491183"
   },
   "outputs": [
    {
     "name": "stdout",
     "output_type": "stream",
     "text": [
      "Accuracy:  77.79673063255153 \n",
      "\n",
      "              precision    recall  f1-score   support\n",
      "\n",
      "           0       0.71      0.88      0.78      3211\n",
      "           1       0.87      0.69      0.77      3824\n",
      "\n",
      "    accuracy                           0.78      7035\n",
      "   macro avg       0.79      0.79      0.78      7035\n",
      "weighted avg       0.80      0.78      0.78      7035\n",
      "\n"
     ]
    }
   ],
   "source": [
    "#accuracy score and classification report\n",
    "from sklearn.metrics import accuracy_score,classification_report\n",
    "\n",
    "f=accuracy_score(y_test,y_pred7)\n",
    "print('Accuracy: ',f*100,'\\n')\n",
    "print(classification_report(y_test,y_pred7))"
   ]
  },
  {
   "cell_type": "code",
   "execution_count": 62,
   "metadata": {
    "colab": {
     "base_uri": "https://localhost:8080/"
    },
    "executionInfo": {
     "elapsed": 46,
     "status": "ok",
     "timestamp": 1707794198457,
     "user": {
      "displayName": "Uday krishnan ck",
      "userId": "10300820552917316551"
     },
     "user_tz": -330
    },
    "id": "62ZFcUOMG1rH",
    "outputId": "47aaca6b-990c-4682-d220-cbbb3a50522b"
   },
   "outputs": [
    {
     "data": {
      "text/plain": [
       "0.795345153232194"
      ]
     },
     "execution_count": 62,
     "metadata": {},
     "output_type": "execute_result"
    }
   ],
   "source": [
    "training_score = adb_model.score(x_train,y_train)\n",
    "training_score"
   ]
  },
  {
   "cell_type": "code",
   "execution_count": 63,
   "metadata": {
    "colab": {
     "base_uri": "https://localhost:8080/"
    },
    "executionInfo": {
     "elapsed": 41,
     "status": "ok",
     "timestamp": 1707794198457,
     "user": {
      "displayName": "Uday krishnan ck",
      "userId": "10300820552917316551"
     },
     "user_tz": -330
    },
    "id": "VgclECP9G6XC",
    "outputId": "e4157202-4ba2-4571-93f7-4ee05a1817b3"
   },
   "outputs": [
    {
     "data": {
      "text/plain": [
       "0.795345153232194"
      ]
     },
     "execution_count": 63,
     "metadata": {},
     "output_type": "execute_result"
    }
   ],
   "source": [
    "training_score = adb_model.score(x_train,y_train)\n",
    "training_score"
   ]
  },
  {
   "cell_type": "markdown",
   "metadata": {
    "id": "KNDMNwzOq5kj"
   },
   "source": [
    "## **8) LOGISTIC REGRESSION**\n",
    "Logistic regression is one of the most popular machine learning algorithms,and its used for predict\n",
    "the categorical dependent variable using a given set of independent variable"
   ]
  },
  {
   "cell_type": "code",
   "execution_count": 64,
   "metadata": {
    "colab": {
     "base_uri": "https://localhost:8080/"
    },
    "executionInfo": {
     "elapsed": 80,
     "status": "ok",
     "timestamp": 1707794199358,
     "user": {
      "displayName": "Uday krishnan ck",
      "userId": "10300820552917316551"
     },
     "user_tz": -330
    },
    "id": "TrPxX8W2HS8x",
    "outputId": "03a19526-e817-4d02-ebe9-487ee2a587d9"
   },
   "outputs": [
    {
     "data": {
      "text/plain": [
       "array([1, 1, 0, ..., 1, 1, 0], dtype=int64)"
      ]
     },
     "execution_count": 64,
     "metadata": {},
     "output_type": "execute_result"
    }
   ],
   "source": [
    "from sklearn.linear_model import LogisticRegression\n",
    "lr_model = LogisticRegression()\n",
    "lr_model.fit(x_train,y_train)\n",
    "y_pred9 = lr_model.predict(x_test)\n",
    "y_pred9"
   ]
  },
  {
   "cell_type": "code",
   "execution_count": 65,
   "metadata": {
    "colab": {
     "base_uri": "https://localhost:8080/"
    },
    "executionInfo": {
     "elapsed": 76,
     "status": "ok",
     "timestamp": 1707794199359,
     "user": {
      "displayName": "Uday krishnan ck",
      "userId": "10300820552917316551"
     },
     "user_tz": -330
    },
    "id": "NavLylaIHWL2",
    "outputId": "a8db929c-6bf0-48c7-9a11-e00d0d191410"
   },
   "outputs": [
    {
     "name": "stdout",
     "output_type": "stream",
     "text": [
      "[[2570  641]\n",
      " [ 957 2867]]\n"
     ]
    }
   ],
   "source": [
    "#confusion matrix\n",
    "from sklearn.metrics import confusion_matrix,ConfusionMatrixDisplay\n",
    "result=confusion_matrix(y_test,y_pred9)\n",
    "print(result)\n",
    "labels=[0,1]\n",
    "cmd=ConfusionMatrixDisplay(result,display_labels=labels)"
   ]
  },
  {
   "cell_type": "code",
   "execution_count": 66,
   "metadata": {
    "colab": {
     "base_uri": "https://localhost:8080/",
     "height": 466
    },
    "executionInfo": {
     "elapsed": 74,
     "status": "ok",
     "timestamp": 1707794199359,
     "user": {
      "displayName": "Uday krishnan ck",
      "userId": "10300820552917316551"
     },
     "user_tz": -330
    },
    "id": "71nl2h40HZkB",
    "outputId": "74234aa0-6611-454b-aad2-6d72afc005b3"
   },
   "outputs": [
    {
     "data": {
      "text/plain": [
       "<sklearn.metrics._plot.confusion_matrix.ConfusionMatrixDisplay at 0x200ad3b4350>"
      ]
     },
     "execution_count": 66,
     "metadata": {},
     "output_type": "execute_result"
    },
    {
     "data": {
      "image/png": "[encoded data removed]",
      "text/plain": [
       "<Figure size 640x480 with 2 Axes>"
      ]
     },
     "metadata": {},
     "output_type": "display_data"
    }
   ],
   "source": [
    "cmd.plot()"
   ]
  },
  {
   "cell_type": "markdown",
   "metadata": {
    "id": "dTYtA3QTUA_2"
   },
   "source": [
    "\n",
    "From Logistic Regression ConfusionMatrix we observe that:   \n",
    "\n",
    "* 2570 samples are correctly classified under not “pure” category & 641 are misclassified.  \n",
    "\n",
    "* 2865 samples are correctly classified under “pure” category & 959 are misclassified\n"
   ]
  },
  {
   "cell_type": "code",
   "execution_count": 67,
   "metadata": {
    "colab": {
     "base_uri": "https://localhost:8080/"
    },
    "executionInfo": {
     "elapsed": 71,
     "status": "ok",
     "timestamp": 1707794199359,
     "user": {
      "displayName": "Uday krishnan ck",
      "userId": "10300820552917316551"
     },
     "user_tz": -330
    },
    "id": "g3BoZc9xHceL",
    "outputId": "b4404b09-4799-40f7-8d64-ecaf3b3ba3ab"
   },
   "outputs": [
    {
     "name": "stdout",
     "output_type": "stream",
     "text": [
      "Accuracy:  77.28500355366027 \n",
      "\n",
      "              precision    recall  f1-score   support\n",
      "\n",
      "           0       0.73      0.80      0.76      3211\n",
      "           1       0.82      0.75      0.78      3824\n",
      "\n",
      "    accuracy                           0.77      7035\n",
      "   macro avg       0.77      0.78      0.77      7035\n",
      "weighted avg       0.78      0.77      0.77      7035\n",
      "\n"
     ]
    }
   ],
   "source": [
    "#accuracy score and classification report\n",
    "from sklearn.metrics import accuracy_score,classification_report\n",
    "\n",
    "g=accuracy_score(y_test,y_pred9)\n",
    "print('Accuracy: ',g*100,'\\n')\n",
    "print(classification_report(y_test,y_pred9))"
   ]
  },
  {
   "cell_type": "code",
   "execution_count": 68,
   "metadata": {
    "colab": {
     "base_uri": "https://localhost:8080/"
    },
    "executionInfo": {
     "elapsed": 70,
     "status": "ok",
     "timestamp": 1707794199359,
     "user": {
      "displayName": "Uday krishnan ck",
      "userId": "10300820552917316551"
     },
     "user_tz": -330
    },
    "id": "0wDROzAdHfuD",
    "outputId": "1b774ae0-5b44-4237-878a-026ea867c951"
   },
   "outputs": [
    {
     "data": {
      "text/plain": [
       "0.7717053555108755"
      ]
     },
     "execution_count": 68,
     "metadata": {},
     "output_type": "execute_result"
    }
   ],
   "source": [
    "training_score = lr_model.score(x_train,y_train)\n",
    "training_score"
   ]
  },
  {
   "cell_type": "code",
   "execution_count": 69,
   "metadata": {
    "colab": {
     "base_uri": "https://localhost:8080/"
    },
    "executionInfo": {
     "elapsed": 68,
     "status": "ok",
     "timestamp": 1707794199359,
     "user": {
      "displayName": "Uday krishnan ck",
      "userId": "10300820552917316551"
     },
     "user_tz": -330
    },
    "id": "LE4LB0SwHgRd",
    "outputId": "f27b808e-d7f8-4d6a-c6da-dd525c828c2e"
   },
   "outputs": [
    {
     "data": {
      "text/plain": [
       "0.7717053555108755"
      ]
     },
     "execution_count": 69,
     "metadata": {},
     "output_type": "execute_result"
    }
   ],
   "source": [
    "testing_score = lr_model.score(x_train,y_train)\n",
    "testing_score"
   ]
  },
  {
   "cell_type": "markdown",
   "metadata": {
    "id": "jguWv1TQrWAg"
   },
   "source": [
    "**Accuracy Score Comparison**"
   ]
  },
  {
   "cell_type": "code",
   "execution_count": 70,
   "metadata": {
    "colab": {
     "base_uri": "https://localhost:8080/",
     "height": 269
    },
    "executionInfo": {
     "elapsed": 64,
     "status": "ok",
     "timestamp": 1707794199359,
     "user": {
      "displayName": "Uday krishnan ck",
      "userId": "10300820552917316551"
     },
     "user_tz": -330
    },
    "id": "UChvxpd-NZPJ",
    "outputId": "7cf0e4d4-f1b5-4a2f-f3b0-ba53e83623a0"
   },
   "outputs": [
    {
     "data": {
      "text/html": [
       "<div>\n",
       "<style scoped>\n",
       "    .dataframe tbody tr th:only-of-type {\n",
       "        vertical-align: middle;\n",
       "    }\n",
       "\n",
       "    .dataframe tbody tr th {\n",
       "        vertical-align: top;\n",
       "    }\n",
       "\n",
       "    .dataframe thead th {\n",
       "        text-align: right;\n",
       "    }\n",
       "</style>\n",
       "<table border=\"1\" class=\"dataframe\">\n",
       "  <thead>\n",
       "    <tr style=\"text-align: right;\">\n",
       "      <th></th>\n",
       "      <th>model</th>\n",
       "      <th>accuracy score</th>\n",
       "    </tr>\n",
       "  </thead>\n",
       "  <tbody>\n",
       "    <tr>\n",
       "      <th>0</th>\n",
       "      <td>KNN</td>\n",
       "      <td>0.764037</td>\n",
       "    </tr>\n",
       "    <tr>\n",
       "      <th>1</th>\n",
       "      <td>BN</td>\n",
       "      <td>0.698223</td>\n",
       "    </tr>\n",
       "    <tr>\n",
       "      <th>2</th>\n",
       "      <td>SVM</td>\n",
       "      <td>0.853447</td>\n",
       "    </tr>\n",
       "    <tr>\n",
       "      <th>3</th>\n",
       "      <td>DT</td>\n",
       "      <td>0.805259</td>\n",
       "    </tr>\n",
       "    <tr>\n",
       "      <th>4</th>\n",
       "      <td>RF</td>\n",
       "      <td>0.845203</td>\n",
       "    </tr>\n",
       "    <tr>\n",
       "      <th>5</th>\n",
       "      <td>AB</td>\n",
       "      <td>0.777967</td>\n",
       "    </tr>\n",
       "    <tr>\n",
       "      <th>6</th>\n",
       "      <td>LG</td>\n",
       "      <td>0.772850</td>\n",
       "    </tr>\n",
       "  </tbody>\n",
       "</table>\n",
       "</div>"
      ],
      "text/plain": [
       "  model  accuracy score\n",
       "0   KNN        0.764037\n",
       "1    BN        0.698223\n",
       "2   SVM        0.853447\n",
       "3    DT        0.805259\n",
       "4    RF        0.845203\n",
       "5    AB        0.777967\n",
       "6    LG        0.772850"
      ]
     },
     "execution_count": 70,
     "metadata": {},
     "output_type": "execute_result"
    }
   ],
   "source": [
    "dic={'model':['KNN','BN','SVM','DT','RF','AB','LG'],'accuracy score':[a,b,c,d,e,f,g]}\n",
    "result=pd.DataFrame(dic)\n",
    "result"
   ]
  },
  {
   "cell_type": "code",
   "execution_count": 71,
   "metadata": {
    "colab": {
     "base_uri": "https://localhost:8080/",
     "height": 466
    },
    "executionInfo": {
     "elapsed": 63,
     "status": "ok",
     "timestamp": 1707794199359,
     "user": {
      "displayName": "Uday krishnan ck",
      "userId": "10300820552917316551"
     },
     "user_tz": -330
    },
    "id": "mGFZevd4OIW6",
    "outputId": "c2865078-da1c-4ced-cdd7-9a22c067b79c"
   },
   "outputs": [
    {
     "name": "stderr",
     "output_type": "stream",
     "text": [
      "C:\\Users\\udayk\\anaconda3\\Lib\\site-packages\\seaborn\\_oldcore.py:1765: FutureWarning: unique with argument that is not not a Series, Index, ExtensionArray, or np.ndarray is deprecated and will raise in a future version.\n",
      "  order = pd.unique(vector)\n"
     ]
    },
    {
     "data": {
      "text/plain": [
       "<Axes: >"
      ]
     },
     "execution_count": 71,
     "metadata": {},
     "output_type": "execute_result"
    },
    {
     "data": {
      "image/png": "[encoded data removed]",
      "text/plain": [
       "<Figure size 640x480 with 1 Axes>"
      ]
     },
     "metadata": {},
     "output_type": "display_data"
    }
   ],
   "source": [
    "sns.barplot(x='model',y='accuracy score',data=dic)"
   ]
  },
  {
   "cell_type": "markdown",
   "metadata": {
    "id": "EnR9M5g0XvLf"
   },
   "source": [
    "# **CONCLUSION**\n",
    "From the perfomance evaluation SVM have highest accuracy and also other performance evaluation metrics are higher for AdaBoost as compared to other models. So we choose SVM algorithm as the best model"
   ]
  },
  {
   "cell_type": "code",
   "execution_count": null,
   "metadata": {
    "id": "dW8csszcW6Y1"
   },
   "outputs": [],
   "source": []
  },
  {
   "cell_type": "markdown",
   "metadata": {
    "id": "TS0F2YRwrphU"
   },
   "source": [
    "# **To Check The Performance Of The Balanced Dataset**  \n",
    "**Balancing an imbalanced data set**  \n",
    "\n",
    "Balancing an imbalanced dataset is an important preprocessing step when working with machine learning models, especially in classification tasks. There are several techniques you can use to balance your dataset. Here, I'll use the method: **oversampling.**\n",
    "\n",
    "\n",
    "\n"
   ]
  },
  {
   "cell_type": "markdown",
   "metadata": {
    "id": "mXAqnvfrvKIT"
   },
   "source": [
    "## **Oversampling**\n",
    "\n",
    "Oversampling is a technique used in machine learning to address class imbalance by increasing the number of instances in the minority class (the less frequent class). This helps to balance the class distribution, which can lead to better model performance."
   ]
  },
  {
   "cell_type": "markdown",
   "metadata": {
    "id": "9GHt_RoGYXjO"
   },
   "source": [
    "**Model with implementation of SMOTE**\n",
    "\n",
    "**SMOTE (Synthetic Minority Over-sampling Technique) - For data balancing**"
   ]
  },
  {
   "cell_type": "code",
   "execution_count": 72,
   "metadata": {
    "id": "Ydg40a9yOTrF"
   },
   "outputs": [],
   "source": [
    "from imblearn.over_sampling import SMOTE\n",
    "\n",
    "sm=SMOTE()\n",
    "\n",
    "x_res,y_res = sm.fit_resample(x,y)"
   ]
  },
  {
   "cell_type": "code",
   "execution_count": 73,
   "metadata": {
    "colab": {
     "base_uri": "https://localhost:8080/"
    },
    "executionInfo": {
     "elapsed": 16,
     "status": "ok",
     "timestamp": 1707794199928,
     "user": {
      "displayName": "Uday krishnan ck",
      "userId": "10300820552917316551"
     },
     "user_tz": -330
    },
    "id": "IMDdwpO0Ox9O",
    "outputId": "c916e844-e160-4f4e-90ed-519a80aa61c0"
   },
   "outputs": [
    {
     "data": {
      "text/plain": [
       "Target\n",
       "1    12622\n",
       "0    10826\n",
       "Name: count, dtype: int64"
      ]
     },
     "execution_count": 73,
     "metadata": {},
     "output_type": "execute_result"
    }
   ],
   "source": [
    "y.value_counts()"
   ]
  },
  {
   "cell_type": "code",
   "execution_count": 74,
   "metadata": {
    "colab": {
     "base_uri": "https://localhost:8080/"
    },
    "executionInfo": {
     "elapsed": 12,
     "status": "ok",
     "timestamp": 1707794199928,
     "user": {
      "displayName": "Uday krishnan ck",
      "userId": "10300820552917316551"
     },
     "user_tz": -330
    },
    "id": "toyum4-0O2co",
    "outputId": "a46e2afb-8aa6-40ad-cf41-b6208264fceb"
   },
   "outputs": [
    {
     "data": {
      "text/plain": [
       "Target\n",
       "0    12622\n",
       "1    12622\n",
       "Name: count, dtype: int64"
      ]
     },
     "execution_count": 74,
     "metadata": {},
     "output_type": "execute_result"
    }
   ],
   "source": [
    "y_res.value_counts()"
   ]
  },
  {
   "cell_type": "code",
   "execution_count": 75,
   "metadata": {
    "id": "8EVLnOqpPAD_"
   },
   "outputs": [],
   "source": [
    "from sklearn.model_selection import train_test_split\n",
    "\n",
    "x_train1,x_test1,y_train1,y_test1 = train_test_split(x_res,y_res,test_size=0.20,random_state=0)"
   ]
  },
  {
   "cell_type": "code",
   "execution_count": 76,
   "metadata": {
    "id": "6gWqJOGfPEBw"
   },
   "outputs": [],
   "source": [
    "from sklearn.preprocessing import StandardScaler\n",
    "\n",
    "sc = StandardScaler()\n",
    "x_train1 = sc.fit_transform(x_train1)\n",
    "x_test1 = sc.fit_transform(x_test1)\n"
   ]
  },
  {
   "cell_type": "code",
   "execution_count": 77,
   "metadata": {
    "colab": {
     "base_uri": "https://localhost:8080/"
    },
    "executionInfo": {
     "elapsed": 6781,
     "status": "ok",
     "timestamp": 1707794206700,
     "user": {
      "displayName": "Uday krishnan ck",
      "userId": "10300820552917316551"
     },
     "user_tz": -330
    },
    "id": "D4fk5VlwSOD5",
    "outputId": "1ec59aa5-5c26-4c52-898e-ca81de98578c"
   },
   "outputs": [
    {
     "data": {
      "text/plain": [
       "array([1, 0, 0, ..., 0, 0, 1], dtype=int64)"
      ]
     },
     "execution_count": 77,
     "metadata": {},
     "output_type": "execute_result"
    }
   ],
   "source": [
    "forest_model2 = AdaBoostClassifier(n_estimators=100)\n",
    "forest_model2.fit(x_train1,y_train1)\n",
    "\n",
    "y_pred = forest_model2.predict(x_test1)\n",
    "y_pred\n"
   ]
  },
  {
   "cell_type": "code",
   "execution_count": 78,
   "metadata": {
    "colab": {
     "base_uri": "https://localhost:8080/"
    },
    "executionInfo": {
     "elapsed": 67,
     "status": "ok",
     "timestamp": 1707794206701,
     "user": {
      "displayName": "Uday krishnan ck",
      "userId": "10300820552917316551"
     },
     "user_tz": -330
    },
    "id": "DIQQ8CnNSZOw",
    "outputId": "1683ac33-11c6-488c-8b82-9dac03b2c07d"
   },
   "outputs": [
    {
     "name": "stdout",
     "output_type": "stream",
     "text": [
      "[[2241  298]\n",
      " [ 614 1896]]\n"
     ]
    }
   ],
   "source": [
    "from sklearn.metrics import confusion_matrix,ConfusionMatrixDisplay\n",
    "result_os = confusion_matrix(y_test1,y_pred)\n",
    "print(result_os)\n",
    "labels=[0,1]\n",
    "cmd_os = ConfusionMatrixDisplay(result_os,display_labels=labels)"
   ]
  },
  {
   "cell_type": "code",
   "execution_count": 79,
   "metadata": {
    "colab": {
     "base_uri": "https://localhost:8080/",
     "height": 466
    },
    "executionInfo": {
     "elapsed": 62,
     "status": "ok",
     "timestamp": 1707794206701,
     "user": {
      "displayName": "Uday krishnan ck",
      "userId": "10300820552917316551"
     },
     "user_tz": -330
    },
    "id": "knMMhnElS57_",
    "outputId": "10fcbb1e-4dbd-4878-c85c-4f911b63b7b9"
   },
   "outputs": [
    {
     "data": {
      "text/plain": [
       "<sklearn.metrics._plot.confusion_matrix.ConfusionMatrixDisplay at 0x20097a0b2d0>"
      ]
     },
     "execution_count": 79,
     "metadata": {},
     "output_type": "execute_result"
    },
    {
     "data": {
      "image/png": "[encoded data removed]",
      "text/plain": [
       "<Figure size 640x480 with 2 Axes>"
      ]
     },
     "metadata": {},
     "output_type": "display_data"
    }
   ],
   "source": [
    "cmd_os.plot()"
   ]
  },
  {
   "cell_type": "code",
   "execution_count": 80,
   "metadata": {
    "colab": {
     "base_uri": "https://localhost:8080/"
    },
    "executionInfo": {
     "elapsed": 837,
     "status": "ok",
     "timestamp": 1707794207479,
     "user": {
      "displayName": "Uday krishnan ck",
      "userId": "10300820552917316551"
     },
     "user_tz": -330
    },
    "id": "POTZv74UPdLQ",
    "outputId": "c3083a17-6847-406e-9936-10bf4ef76090"
   },
   "outputs": [
    {
     "data": {
      "text/plain": [
       "0.8326813567714781"
      ]
     },
     "execution_count": 80,
     "metadata": {},
     "output_type": "execute_result"
    }
   ],
   "source": [
    "training_score = forest_model2.score(x_train1,y_train1)\n",
    "training_score"
   ]
  },
  {
   "cell_type": "code",
   "execution_count": 81,
   "metadata": {
    "colab": {
     "base_uri": "https://localhost:8080/"
    },
    "executionInfo": {
     "elapsed": 19,
     "status": "ok",
     "timestamp": 1707794207480,
     "user": {
      "displayName": "Uday krishnan ck",
      "userId": "10300820552917316551"
     },
     "user_tz": -330
    },
    "id": "Am529kBFPd6H",
    "outputId": "c91d533c-9e1d-44d5-cd43-4aade82076f2"
   },
   "outputs": [
    {
     "data": {
      "text/plain": [
       "0.8193701723113488"
      ]
     },
     "execution_count": 81,
     "metadata": {},
     "output_type": "execute_result"
    }
   ],
   "source": [
    "testing_score = forest_model2.score(x_test1,y_test1)\n",
    "testing_score"
   ]
  },
  {
   "cell_type": "code",
   "execution_count": 82,
   "metadata": {
    "colab": {
     "base_uri": "https://localhost:8080/"
    },
    "executionInfo": {
     "elapsed": 14,
     "status": "ok",
     "timestamp": 1707794207480,
     "user": {
      "displayName": "Uday krishnan ck",
      "userId": "10300820552917316551"
     },
     "user_tz": -330
    },
    "id": "bVKxy4JsPebG",
    "outputId": "31edff32-e047-47fa-d0ce-229fddab94b2"
   },
   "outputs": [
    {
     "name": "stdout",
     "output_type": "stream",
     "text": [
      "Accuracy:  81.93701723113487 \n",
      "\n",
      "              precision    recall  f1-score   support\n",
      "\n",
      "           0       0.78      0.88      0.83      2539\n",
      "           1       0.86      0.76      0.81      2510\n",
      "\n",
      "    accuracy                           0.82      5049\n",
      "   macro avg       0.82      0.82      0.82      5049\n",
      "weighted avg       0.82      0.82      0.82      5049\n",
      "\n"
     ]
    }
   ],
   "source": [
    "#accuracy score and classification report\n",
    "\n",
    "from sklearn.metrics import accuracy_score,classification_report\n",
    "\n",
    "print('Accuracy: ',accuracy_score(y_test1,y_pred)*100,'\\n')\n",
    "print(classification_report(y_test1,y_pred))"
   ]
  },
  {
   "cell_type": "markdown",
   "metadata": {
    "id": "lLr7aUsCYhu5"
   },
   "source": [
    "**OBSERVATION**  \n",
    "\n",
    "\n",
    "Imbalanced data has the highest accuracy score when compared to the balanced data. So we can't choose it as a best model."
   ]
  },
  {
   "cell_type": "code",
   "execution_count": null,
   "metadata": {
    "id": "d9GNMJ3XHUDA"
   },
   "outputs": [],
   "source": []
  },
  {
   "cell_type": "markdown",
   "metadata": {
    "id": "AK1G04Fwv98K"
   },
   "source": [
    "# **HYPER PARAMETER TUNING**\n",
    "Hyperparameters (External Parameters) are adjustable parameters used to obtain an optimal model. Some set of parameters that are used to control the behaviour of the model/algorithm and adjustable in order to obtain an improvised model with optimal performance is called Hyperparameters.   \n",
    "\n",
    "Hyper parameter Tuning refers to the process of choosing the optimum set of hyperparameters for a machine learning model. This process is also called hyperparameter optimization. Here i'am using RandomSearchCV to get the optimum set of hyperparameters.   \n",
    "\n",
    "In Random Search, the list of hyperparameters are trained and test our model on a random combination of given hyperparameters.\n"
   ]
  },
  {
   "cell_type": "markdown",
   "metadata": {
    "id": "hb94c8lfwLnU"
   },
   "source": [
    "**Applying Hyper Parameter Tuning on Imbalanced Data.**"
   ]
  },
  {
   "cell_type": "code",
   "execution_count": 83,
   "metadata": {
    "id": "u9XCf2YIVSs9"
   },
   "outputs": [],
   "source": [
    "from sklearn.model_selection import RandomizedSearchCV\n",
    "from scipy.stats import randint as sp_randint\n",
    "\n",
    "sv = SVC()"
   ]
  },
  {
   "cell_type": "markdown",
   "metadata": {
    "id": "e4frGp8DLEr1"
   },
   "source": []
  },
  {
   "cell_type": "code",
   "execution_count": 84,
   "metadata": {
    "id": "nVziZvrYYfFj"
   },
   "outputs": [],
   "source": [
    "param_dist = {'C': sp_randint(1, 100),'gamma': ['scale', 'auto'],'kernel': ['linear', 'poly', 'rbf', 'sigmoid'] }"
   ]
  },
  {
   "cell_type": "code",
   "execution_count": null,
   "metadata": {
    "colab": {
     "background_save": true,
     "base_uri": "https://localhost:8080/"
    },
    "id": "k6NKgZehIcE5"
   },
   "outputs": [
    {
     "name": "stdout",
     "output_type": "stream",
     "text": [
      "Fitting 5 folds for each of 20 candidates, totalling 100 fits\n"
     ]
    }
   ],
   "source": [
    "randomCV = RandomizedSearchCV(sv,param_distributions=param_dist,n_iter=20, cv=5, verbose=2, random_state=42, n_jobs=-1)\n",
    "randomCV.fit(x_train, y_train)"
   ]
  },
  {
   "cell_type": "code",
   "execution_count": null,
   "metadata": {
    "colab": {
     "background_save": true
    },
    "id": "JJA01dxJZipf"
   },
   "outputs": [],
   "source": [
    "sv_model2 = SVC()\n",
    "sv_model2.fit(x_train,y_train)\n",
    "\n",
    "y_pred_ = sv_model2.predict(x_test)\n",
    "y_pred_\n"
   ]
  },
  {
   "cell_type": "code",
   "execution_count": null,
   "metadata": {
    "colab": {
     "background_save": true
    },
    "id": "lO8fYkEQZ1Nv"
   },
   "outputs": [],
   "source": [
    "training_score = forest_model3.score(x_train,y_train)\n",
    "training_score"
   ]
  },
  {
   "cell_type": "code",
   "execution_count": null,
   "metadata": {
    "colab": {
     "background_save": true
    },
    "id": "ZRxtO3b9aJuT"
   },
   "outputs": [],
   "source": [
    "testing_score = forest_model3.score(x_train,y_train)\n",
    "testing_score"
   ]
  },
  {
   "cell_type": "code",
   "execution_count": null,
   "metadata": {
    "colab": {
     "background_save": true
    },
    "id": "kbCgTPnFZ5Xs"
   },
   "outputs": [],
   "source": [
    "#accuracy score and classification report\n",
    "\n",
    "from sklearn.metrics import accuracy_score,classification_report\n",
    "\n",
    "print('Accuracy: ',accuracy_score(y_test,y_pred_)*100,'\\n')\n",
    "print(classification_report(y_test,y_pred_))"
   ]
  },
  {
   "cell_type": "markdown",
   "metadata": {
    "id": "ZJ3JWVAZYuqz"
   },
   "source": [
    "**OBSERVATION**\n",
    "\n",
    "In this model, the accuracy score  improved. So which make it is the best model in this case."
   ]
  },
  {
   "cell_type": "markdown",
   "metadata": {
    "id": "jpfc-laYwZot"
   },
   "source": [
    "# **Predicting New Datapoint**"
   ]
  },
  {
   "cell_type": "code",
   "execution_count": null,
   "metadata": {
    "colab": {
     "background_save": true
    },
    "id": "2La-f2ubalws"
   },
   "outputs": [],
   "source": [
    "sv_model.predict([[7,1,45,400,0.01,5,2,1.2,0.5,0.8,250,445,3.11,0.0000031,521,7,20,55]])"
   ]
  },
  {
   "cell_type": "code",
   "execution_count": null,
   "metadata": {
    "colab": {
     "background_save": true
    },
    "id": "vtnNIEemQXsP"
   },
   "outputs": [],
   "source": [
    "import pickle\n",
    "pickle.dump(sv_model,open('model.sav','wb'))"
   ]
  },
  {
   "cell_type": "markdown",
   "metadata": {
    "id": "-nLDfklbZPJw"
   },
   "source": [
    "# **CONCLUSION**\n",
    "* From the performance evaluation we found that the model created by SVM algorithm is having the highest accuracy and also F1 and Recall scores are very high\n",
    "\n",
    "* In the first case, the dataset is imbalanced. So observing the performance evaluation with the balanced set we got the accuracy score which is low as compared to the imbalanced data\n",
    "\n",
    "* So we chose SVM algorithm with imbalanced dataset to create the model and built the best model\n",
    "\n",
    "\n",
    "\n",
    "\n",
    "\n"
   ]
  },
  {
   "cell_type": "code",
   "execution_count": null,
   "metadata": {
    "colab": {
     "background_save": true
    },
    "id": "mQ3l6dgUW6Wl"
   },
   "outputs": [],
   "source": []
  },
  {
   "cell_type": "code",
   "execution_count": null,
   "metadata": {
    "colab": {
     "background_save": true
    },
    "id": "8UOY5IahW6Uc"
   },
   "outputs": [],
   "source": []
  },
  {
   "cell_type": "code",
   "execution_count": null,
   "metadata": {
    "colab": {
     "background_save": true
    },
    "id": "zbEtE-iPW6SR"
   },
   "outputs": [],
   "source": []
  },
  {
   "cell_type": "code",
   "execution_count": null,
   "metadata": {
    "colab": {
     "background_save": true
    },
    "id": "8l9kn53tW6QN"
   },
   "outputs": [],
   "source": []
  },
  {
   "cell_type": "code",
   "execution_count": null,
   "metadata": {
    "colab": {
     "background_save": true
    },
    "id": "I14QSE1cW6N4"
   },
   "outputs": [],
   "source": []
  },
  {
   "cell_type": "code",
   "execution_count": null,
   "metadata": {
    "colab": {
     "background_save": true
    },
    "id": "EbPuWieOW6L4"
   },
   "outputs": [],
   "source": []
  },
  {
   "cell_type": "code",
   "execution_count": null,
   "metadata": {
    "colab": {
     "background_save": true
    },
    "id": "zOLdzcmxW6J6"
   },
   "outputs": [],
   "source": []
  },
  {
   "cell_type": "code",
   "execution_count": null,
   "metadata": {
    "colab": {
     "background_save": true
    },
    "id": "JxnfvPOyW6H4"
   },
   "outputs": [],
   "source": []
  },
  {
   "cell_type": "code",
   "execution_count": null,
   "metadata": {
    "colab": {
     "background_save": true
    },
    "id": "PC1WxfS8W6Fp"
   },
   "outputs": [],
   "source": []
  },
  {
   "cell_type": "code",
   "execution_count": null,
   "metadata": {
    "colab": {
     "background_save": true
    },
    "id": "EK2gnbj9W6Dv"
   },
   "outputs": [],
   "source": []
  },
  {
   "cell_type": "code",
   "execution_count": null,
   "metadata": {
    "colab": {
     "background_save": true
    },
    "id": "oumGhJoMW6Bi"
   },
   "outputs": [],
   "source": []
  }
 ],
 "metadata": {
  "colab": {
   "authorship_tag": "ABX9TyM0pUAE5Zi95hvJVhvh9o3t",
   "mount_file_id": "1YPidTm_0PzR1dT-RJyfio0mxOBmyt-6b",
   "name": "",
   "version": ""
  },
  "kernelspec": {
   "display_name": "Python 3 (ipykernel)",
   "language": "python",
   "name": "python3"
  },
  "language_info": {
   "codemirror_mode": {
    "name": "ipython",
    "version": 3
   },
   "file_extension": ".py",
   "mimetype": "text/x-python",
   "name": "python",
   "nbconvert_exporter": "python",
   "pygments_lexer": "ipython3",
   "version": "3.11.5"
  }
 },
 "nbformat": 4,
 "nbformat_minor": 1
}
